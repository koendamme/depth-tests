{
 "cells": [
  {
   "cell_type": "code",
   "execution_count": 39,
   "id": "initial_id",
   "metadata": {
    "collapsed": true,
    "ExecuteTime": {
     "end_time": "2024-03-22T10:25:28.539128Z",
     "start_time": "2024-03-22T10:25:28.532127Z"
    }
   },
   "outputs": [],
   "source": [
    "import matplotlib as mpl\n",
    "from matplotlib.widgets import RectangleSelector\n",
    "\n",
    "mpl.use('Qt5Agg')\n",
    "import matplotlib.pyplot as plt\n",
    "import glob\n",
    "import os\n",
    "import numpy as np\n",
    "import cv2\n",
    "import open3d\n",
    "from intrinsics import Intrinsics\n",
    "from tqdm.notebook import tqdm\n",
    "from utils import pcd_to_depth_map, pcd_to_volume\n",
    "import math\n",
    "import scipy\n",
    "from scipy.spatial.transform import Rotation"
   ]
  },
  {
   "cell_type": "code",
   "outputs": [],
   "source": [
    "fps = 30\n",
    "test_name = \"test1_depth_normal\"\n",
    "scale = 0.00025\n",
    "paths = glob.glob(os.path.join(\"koen_mri_room\", test_name, \"*.png\"))\n",
    "filename = paths[0].split(\"\\\\\")[-1]\n",
    "\n",
    "depth = np.asanyarray(open3d.io.read_image(paths[0])) * scale\n",
    "depth = open3d.geometry.Image(depth.astype(np.float32))\n",
    "\n",
    "# rgb = cv2.imread(os.path.join(\"koen_mri_room\", test_name, \"rgb\", filename))\n",
    "rgb = np.zeros(np.asarray(depth).shape)"
   ],
   "metadata": {
    "collapsed": false,
    "ExecuteTime": {
     "end_time": "2024-03-22T10:25:29.033766Z",
     "start_time": "2024-03-22T10:25:28.981078Z"
    }
   },
   "id": "98d4124c2c1f7104",
   "execution_count": 40
  },
  {
   "cell_type": "code",
   "outputs": [
    {
     "data": {
      "text/plain": "'koen_mri_room\\\\test1_depth_normal\\\\frame_0_1710933553.519603.png'"
     },
     "execution_count": 41,
     "metadata": {},
     "output_type": "execute_result"
    }
   ],
   "source": [
    "paths[0]"
   ],
   "metadata": {
    "collapsed": false,
    "ExecuteTime": {
     "end_time": "2024-03-22T10:25:29.376210Z",
     "start_time": "2024-03-22T10:25:29.368972Z"
    }
   },
   "id": "7cec0d45639089",
   "execution_count": 41
  },
  {
   "cell_type": "code",
   "outputs": [],
   "source": [
    "figs, axs = plt.subplots(1, 2, figsize=(10, 5))\n",
    "# axs[0].imshow(cv2.cvtColor(rgb, cv2.COLOR_BGR2RGB))\n",
    "axs[0].imshow(rgb)\n",
    "axs[0].axis('off')\n",
    "axs[1].imshow(depth, cmap=\"gray\")\n",
    "axs[1].axis('off')\n",
    "plt.show()"
   ],
   "metadata": {
    "collapsed": false,
    "ExecuteTime": {
     "end_time": "2024-03-22T10:25:32.756998Z",
     "start_time": "2024-03-22T10:25:31.283646Z"
    }
   },
   "id": "f5f5d3bf31402872",
   "execution_count": 42
  },
  {
   "cell_type": "code",
   "outputs": [],
   "source": [
    "# points = []\n",
    "# \n",
    "# def mouse_event(event):\n",
    "#     global points\n",
    "#     global rgb_copy\n",
    "# \n",
    "#     points.append([int(event.xdata), int(event.ydata)])\n",
    "# \n",
    "#     if len(points) == 3:\n",
    "#         plt.close()\n",
    "# \n",
    "# fig = plt.figure(figsize=(10, 10))\n",
    "# cid = fig.canvas.mpl_connect('button_press_event', mouse_event)\n",
    "# # plt.imshow(cv2.cvtColor(rgb, cv2.COLOR_BGR2RGB))\n",
    "# plt.imshow(depth)\n",
    "# plt.show()\n",
    "# \n",
    "# # rgb_copy = rgb.copy()\n",
    "# depth_copy = np.asarray(depth).copy()\n",
    "# for p in points:\n",
    "#     # marked_image = cv2.circle(rgb_copy, p, 3, (0, 255, 0), 2)\n",
    "#     marked_image = cv2.circle(depth_copy, p, 3, (0, 255, 0), 2)\n",
    "# \n",
    "# fig = plt.figure(figsize=(10, 10))\n",
    "# # plt.imshow(cv2.cvtColor(rgb_copy, cv2.COLOR_BGR2RGB))\n",
    "# plt.imshow(marked_image)\n",
    "# plt.show()"
   ],
   "metadata": {
    "collapsed": false,
    "ExecuteTime": {
     "end_time": "2024-03-22T10:09:14.301814Z",
     "start_time": "2024-03-22T10:09:14.294657Z"
    }
   },
   "id": "3b3a0900677eb88d",
   "execution_count": 5
  },
  {
   "cell_type": "code",
   "outputs": [],
   "source": [
    "points = [[332, 745], [586, 733], [528, 520]]"
   ],
   "metadata": {
    "collapsed": false,
    "ExecuteTime": {
     "end_time": "2024-03-22T10:25:35.204712Z",
     "start_time": "2024-03-22T10:25:35.199571Z"
    }
   },
   "id": "b857d8b8cd310245",
   "execution_count": 43
  },
  {
   "cell_type": "code",
   "outputs": [],
   "source": [
    "fig, ax = plt.subplots()\n",
    "ax.imshow(depth, cmap=\"gray\")\n",
    "roi = None\n",
    "\n",
    "def line_select_callback(eclick, erelease):\n",
    "    x1, y1 = eclick.xdata, eclick.ydata\n",
    "    x2, y2 = erelease.xdata, erelease.ydata\n",
    "    global roi\n",
    "    roi = [[int(x1), int(y1)], [int(x2), int(y2)]]\n",
    "    plt.close()\n",
    "\n",
    "rs = RectangleSelector(ax, line_select_callback,\n",
    "                       useblit=False, button=[1],\n",
    "                       minspanx=5, minspany=5, spancoords='pixels',\n",
    "                       interactive=True)\n",
    "\n",
    "\n",
    "plt.connect(\"key_press_event\", rs)\n",
    "plt.show()"
   ],
   "metadata": {
    "collapsed": false,
    "ExecuteTime": {
     "end_time": "2024-03-22T10:25:41.291122Z",
     "start_time": "2024-03-22T10:25:35.581636Z"
    }
   },
   "id": "693de61daa6552c4",
   "execution_count": 44
  },
  {
   "cell_type": "code",
   "outputs": [],
   "source": [
    "# roi = [[424, 378], [479, 435]]"
   ],
   "metadata": {
    "collapsed": false,
    "ExecuteTime": {
     "end_time": "2024-03-22T10:25:43.182020Z",
     "start_time": "2024-03-22T10:25:43.178208Z"
    }
   },
   "id": "4638ec84d78a7f12",
   "execution_count": 45
  },
  {
   "cell_type": "code",
   "outputs": [],
   "source": [
    "npdepth = np.asarray(depth)\n",
    "point_mask = np.zeros(npdepth.shape)\n",
    "\n",
    "for p in points:\n",
    "    point_mask[p[1], p[0]] = npdepth[p[1], p[0]]\n",
    "\n",
    "markers_o3d = open3d.geometry.Image(point_mask.astype(np.float32))\n",
    "# intr = Intrinsics(width=640, height=480)\n",
    "intr = Intrinsics(width=1024, height=768)\n",
    "\n",
    "m_pcd = open3d.geometry.PointCloud.create_from_depth_image(markers_o3d, intrinsic=intr.get_intrinsics())\n",
    "m_pcd.transform([[1, 0, 0, 0], [0, -1, 0, 0], [0, 0, -1, 0], [0, 0, 0, 1]])\n",
    "m_pcd.paint_uniform_color([1.0, 0, 0])\n",
    "\n",
    "points3d = np.asarray(m_pcd.points).copy()\n",
    "\n",
    "u_1 = points3d[1] - points3d[2]\n",
    "u_2 = points3d[0] - points3d[2]\n",
    "\n",
    "n = np.cross(u_1, u_2)\n",
    "R = Rotation.align_vectors([0, 1, 0], n)[0].as_matrix()"
   ],
   "metadata": {
    "collapsed": false,
    "ExecuteTime": {
     "end_time": "2024-03-22T10:25:44.262815Z",
     "start_time": "2024-03-22T10:25:44.245982Z"
    }
   },
   "id": "4728c1df9063c1da",
   "execution_count": 46
  },
  {
   "cell_type": "code",
   "outputs": [
    {
     "data": {
      "text/plain": "PointCloud with 3 points."
     },
     "execution_count": 47,
     "metadata": {},
     "output_type": "execute_result"
    }
   ],
   "source": [
    "m_pcd.translate(-points3d[2])\n",
    "m_pcd.rotate(R, center=(0, 0, 0))"
   ],
   "metadata": {
    "collapsed": false,
    "ExecuteTime": {
     "end_time": "2024-03-22T10:25:44.639115Z",
     "start_time": "2024-03-22T10:25:44.629796Z"
    }
   },
   "id": "c1abbbc489046237",
   "execution_count": 47
  },
  {
   "cell_type": "code",
   "outputs": [],
   "source": [
    "def apply_bounding_box(pcd, roi_points):\n",
    "    p1 = roi_points[np.argmin(roi_points[:, 0])]\n",
    "    p2 = roi_points[np.argmin(roi_points[:, 2])]\n",
    "    \n",
    "    # p1 = p1 - np.array([.3, 0, 0])\n",
    "    # p2 = p2 + np.array([.3, 1, -.7])\n",
    "    \n",
    "    # Test 1\n",
    "    p1 = p1 + np.array([0, 0, -1.9])\n",
    "    p2 = p2 + np.array([.5, 1, -2])    \n",
    "    \n",
    "    points_to_filter = np.asarray(pcd.points)\n",
    "    \n",
    "    x_bound = (points_to_filter[:, 0] > p1[0]) & (points_to_filter[:, 0] < p2[0])\n",
    "    z_bound = (points_to_filter[:, 2] < p1[2]) & (points_to_filter[:, 2] > p2[2])\n",
    "    y_bound = (points_to_filter[:, 1] > p1[1]) & (points_to_filter[:, 1] < p2[1])\n",
    "    \n",
    "    return pcd.select_by_index(np.where(x_bound & z_bound & y_bound)[0])\n",
    "\n",
    "# pcd_filtered = apply_bounding_box(pcd_body, np.array(m_pcd.points))"
   ],
   "metadata": {
    "collapsed": false,
    "ExecuteTime": {
     "end_time": "2024-03-22T10:25:46.292122Z",
     "start_time": "2024-03-22T10:25:46.284055Z"
    }
   },
   "id": "6ade5855dfc8cf0f",
   "execution_count": 48
  },
  {
   "cell_type": "markdown",
   "source": [
    "Depth image interpolation"
   ],
   "metadata": {
    "collapsed": false
   },
   "id": "9a108157a2d2f95f"
  },
  {
   "cell_type": "code",
   "outputs": [],
   "source": [
    "from skimage.restoration import inpaint"
   ],
   "metadata": {
    "collapsed": false,
    "ExecuteTime": {
     "end_time": "2024-03-22T10:25:48.464548Z",
     "start_time": "2024-03-22T10:25:48.459563Z"
    }
   },
   "id": "c4a3903eecd5d793",
   "execution_count": 49
  },
  {
   "cell_type": "code",
   "outputs": [],
   "source": [
    "ref_with_body = np.asanyarray(open3d.io.read_image(paths[0])) * scale"
   ],
   "metadata": {
    "collapsed": false,
    "ExecuteTime": {
     "end_time": "2024-03-22T10:25:48.878674Z",
     "start_time": "2024-03-22T10:25:48.856750Z"
    }
   },
   "id": "9faa618cf4b2b876",
   "execution_count": 50
  },
  {
   "cell_type": "code",
   "outputs": [],
   "source": [
    "npdepth = np.asarray(depth)\n",
    "temp_mask = np.zeros(npdepth.shape)\n",
    "mask = np.zeros(npdepth.shape)\n",
    "\n",
    "temp_mask[npdepth == 0] = 1\n",
    "\n",
    "mask[roi[0][1]:roi[1][1], roi[0][0]:roi[1][0]] = temp_mask[roi[0][1]:roi[1][1], roi[0][0]:roi[1][0]]\n",
    "interpolated_depth = inpaint.inpaint_biharmonic(ref_with_body, mask)"
   ],
   "metadata": {
    "collapsed": false,
    "ExecuteTime": {
     "end_time": "2024-03-22T10:25:49.778952Z",
     "start_time": "2024-03-22T10:25:49.664941Z"
    }
   },
   "id": "425d915b3be662da",
   "execution_count": 51
  },
  {
   "cell_type": "code",
   "outputs": [],
   "source": [
    "plt.imshow(npdepth)\n",
    "plt.show()"
   ],
   "metadata": {
    "collapsed": false,
    "ExecuteTime": {
     "end_time": "2024-03-22T10:26:09.090467Z",
     "start_time": "2024-03-22T10:25:50.504427Z"
    }
   },
   "id": "e5b3e07c12635336",
   "execution_count": 52
  },
  {
   "cell_type": "code",
   "outputs": [],
   "source": [
    "ref_with_body = open3d.geometry.Image(interpolated_depth.astype(np.float32))\n",
    "ref_with_body_pcd = open3d.geometry.PointCloud.create_from_depth_image(depth=ref_with_body, intrinsic=intr.get_intrinsics())\n",
    "ref_with_body_pcd.transform([[1, 0, 0, 0], [0, -1, 0, 0], [0, 0, -1, 0], [0, 0, 0, 1]])\n",
    "ref_with_body_pcd.translate(-points3d[2])\n",
    "ref_with_body_pcd.rotate(R, center=(0, 0, 0))\n",
    "\n",
    "ref_with_only_body_pcd = apply_bounding_box(ref_with_body_pcd, np.array(m_pcd.points))"
   ],
   "metadata": {
    "collapsed": false,
    "ExecuteTime": {
     "end_time": "2024-03-22T10:26:19.725334Z",
     "start_time": "2024-03-22T10:26:19.692350Z"
    }
   },
   "id": "ae27b6e737087ad1",
   "execution_count": 53
  },
  {
   "cell_type": "code",
   "outputs": [],
   "source": [
    "axes = open3d.geometry.TriangleMesh.create_coordinate_frame()"
   ],
   "metadata": {
    "collapsed": false,
    "ExecuteTime": {
     "end_time": "2024-03-22T10:26:20.563933Z",
     "start_time": "2024-03-22T10:26:20.559635Z"
    }
   },
   "id": "23622f144b402a95",
   "execution_count": 54
  },
  {
   "cell_type": "code",
   "outputs": [],
   "source": [
    "open3d.visualization.draw_geometries([ref_with_body_pcd, axes])"
   ],
   "metadata": {
    "collapsed": false,
    "ExecuteTime": {
     "end_time": "2024-03-22T10:26:37.152420Z",
     "start_time": "2024-03-22T10:26:21.116949Z"
    }
   },
   "id": "49dd13ebdc9a2013",
   "execution_count": 55
  },
  {
   "cell_type": "code",
   "outputs": [],
   "source": [
    "open3d.visualization.draw_geometries([ref_with_only_body_pcd, axes])"
   ],
   "metadata": {
    "collapsed": false,
    "ExecuteTime": {
     "end_time": "2024-03-22T10:26:48.108038Z",
     "start_time": "2024-03-22T10:26:38.839604Z"
    }
   },
   "id": "ac85caaf8742f921",
   "execution_count": 56
  },
  {
   "cell_type": "markdown",
   "source": [
    "<h3>Video</h3>"
   ],
   "metadata": {
    "collapsed": false
   },
   "id": "f2ccbcc2188fa357"
  },
  {
   "cell_type": "code",
   "outputs": [
    {
     "name": "stdout",
     "output_type": "stream",
     "text": [
      "[Open3D WARNING] The number of points is 0 when creating axis-aligned bounding box.\n"
     ]
    },
    {
     "data": {
      "text/plain": "  0%|          | 0/470 [00:00<?, ?it/s]",
      "application/vnd.jupyter.widget-view+json": {
       "version_major": 2,
       "version_minor": 0,
       "model_id": "472bf82e262449d08876c2af664d0fc0"
      }
     },
     "metadata": {},
     "output_type": "display_data"
    }
   ],
   "source": [
    "vis = open3d.visualization.Visualizer()\n",
    "vis.create_window()\n",
    "\n",
    "geometry = open3d.geometry.PointCloud()\n",
    "vis.add_geometry(geometry)\n",
    "vis.add_geometry(axes)\n",
    "\n",
    "fps=30\n",
    "img=None\n",
    "\n",
    "diff = []\n",
    "for i, path in tqdm(enumerate(paths[350:820]), total=820-350):\n",
    "    depth = np.asanyarray(open3d.io.read_image(path)) * scale\n",
    "    temp_mask = np.zeros(depth.shape)\n",
    "    mask = np.zeros(depth.shape)\n",
    "    temp_mask[depth == 0] = 1\n",
    "    mask[roi[0][1]:roi[1][1], roi[0][0]:roi[1][0]] = temp_mask[roi[0][1]:roi[1][1], roi[0][0]:roi[1][0]]\n",
    "    depth = inpaint.inpaint_biharmonic(depth, mask)\n",
    "    \n",
    "    depth = open3d.geometry.Image(depth.astype(np.float32))\n",
    "    \n",
    "    pcd = open3d.geometry.PointCloud.create_from_depth_image(depth=depth, intrinsic=intr.get_intrinsics())\n",
    "    pcd.transform([[1, 0, 0, 0], [0, -1, 0, 0], [0, 0, -1, 0], [0, 0, 0, 1]])\n",
    "    pcd.translate(-points3d[2])\n",
    "    pcd.rotate(R, center=(0, 0, 0))\n",
    "\n",
    "    pcd = apply_bounding_box(pcd, np.asarray(m_pcd.points))\n",
    "    dists = pcd.compute_point_cloud_distance(ref_with_only_body_pcd)\n",
    "    m_dists = np.mean(np.asarray(dists))\n",
    "    diff.append(m_dists)\n",
    "\n",
    "    geometry.points = pcd.points\n",
    "        \n",
    "    if i == 0:\n",
    "        vis.add_geometry(geometry)\n",
    "\n",
    "    vis.update_geometry(geometry)\n",
    "    vis.poll_events()\n",
    "    vis.update_renderer()\n",
    "    \n",
    "vis.destroy_window()"
   ],
   "metadata": {
    "collapsed": false,
    "ExecuteTime": {
     "end_time": "2024-03-22T10:28:06.838654Z",
     "start_time": "2024-03-22T10:26:49.970260Z"
    }
   },
   "id": "641d7350abd162c5",
   "execution_count": 57
  },
  {
   "cell_type": "code",
   "outputs": [
    {
     "data": {
      "text/plain": "1938"
     },
     "execution_count": 21,
     "metadata": {},
     "output_type": "execute_result"
    }
   ],
   "source": [
    "len(paths)"
   ],
   "metadata": {
    "collapsed": false,
    "ExecuteTime": {
     "end_time": "2024-03-22T10:12:32.266550Z",
     "start_time": "2024-03-22T10:12:32.259748Z"
    }
   },
   "id": "5701de4a01eebb7a",
   "execution_count": 21
  },
  {
   "cell_type": "code",
   "outputs": [],
   "source": [
    "from scipy.ndimage import gaussian_filter1d\n",
    "\n",
    "fig = plt.figure()\n",
    "plt.plot(np.array(diff), label='original data')\n",
    "plt.plot(gaussian_filter1d(np.array(diff), sigma=2))\n",
    "plt.xlabel(\"difference\")\n",
    "plt.xlabel(\"frame\")\n",
    "plt.show()"
   ],
   "metadata": {
    "collapsed": false,
    "ExecuteTime": {
     "end_time": "2024-03-22T10:35:19.426980Z",
     "start_time": "2024-03-22T10:28:35.064552Z"
    }
   },
   "id": "e6feaaadf83050a7",
   "execution_count": 58
  },
  {
   "cell_type": "code",
   "outputs": [
    {
     "ename": "NameError",
     "evalue": "name 'vis' is not defined",
     "output_type": "error",
     "traceback": [
      "\u001B[1;31m---------------------------------------------------------------------------\u001B[0m",
      "\u001B[1;31mNameError\u001B[0m                                 Traceback (most recent call last)",
      "Cell \u001B[1;32mIn[11], line 1\u001B[0m\n\u001B[1;32m----> 1\u001B[0m vis\u001B[38;5;241m.\u001B[39mdestroy_window()\n",
      "\u001B[1;31mNameError\u001B[0m: name 'vis' is not defined"
     ]
    }
   ],
   "source": [],
   "metadata": {
    "collapsed": false,
    "ExecuteTime": {
     "end_time": "2024-03-20T15:45:29.140603Z",
     "start_time": "2024-03-20T15:45:27.678829Z"
    }
   },
   "id": "90942139d25fae85",
   "execution_count": 11
  },
  {
   "cell_type": "code",
   "outputs": [],
   "source": [
    "vis.destroy_window()"
   ],
   "metadata": {
    "collapsed": false,
    "ExecuteTime": {
     "end_time": "2024-03-22T10:40:17.266960Z",
     "start_time": "2024-03-22T10:40:17.261217Z"
    }
   },
   "id": "5bd9d0863fde10a5",
   "execution_count": 59
  },
  {
   "cell_type": "code",
   "outputs": [],
   "source": [],
   "metadata": {
    "collapsed": false
   },
   "id": "cd4c0630826c06ac"
  }
 ],
 "metadata": {
  "kernelspec": {
   "display_name": "Python 3",
   "language": "python",
   "name": "python3"
  },
  "language_info": {
   "codemirror_mode": {
    "name": "ipython",
    "version": 2
   },
   "file_extension": ".py",
   "mimetype": "text/x-python",
   "name": "python",
   "nbconvert_exporter": "python",
   "pygments_lexer": "ipython2",
   "version": "2.7.6"
  }
 },
 "nbformat": 4,
 "nbformat_minor": 5
}
