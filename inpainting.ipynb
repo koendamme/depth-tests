{
 "cells": [
  {
   "cell_type": "code",
   "outputs": [],
   "source": [
    "import matplotlib as mpl\n",
    "from matplotlib.widgets import RectangleSelector\n",
    "\n",
    "mpl.use('Qt5Agg')\n",
    "import matplotlib.pyplot as plt\n",
    "import glob\n",
    "import os\n",
    "import numpy as np\n",
    "import cv2\n",
    "import open3d\n",
    "from intrinsics import Intrinsics\n",
    "from skimage.restoration import inpaint\n",
    "from tqdm.notebook import tqdm\n",
    "from utils import pcd_to_depth_map, pcd_to_volume\n",
    "import math\n",
    "import scipy\n",
    "from scipy.spatial.transform import Rotation"
   ],
   "metadata": {
    "collapsed": false,
    "ExecuteTime": {
     "end_time": "2024-03-22T09:21:50.525667Z",
     "start_time": "2024-03-22T09:21:50.518362Z"
    }
   },
   "id": "2310a588d76e8424",
   "execution_count": 38
  },
  {
   "cell_type": "code",
   "outputs": [],
   "source": [
    "fps = 30\n",
    "test_name = \"test2\"\n",
    "scale = 0.00025\n",
    "path = glob.glob(os.path.join(\"techmed_test\", test_name, \"depth\", \"*.png\"))[500]\n",
    "\n",
    "depth = np.asanyarray(open3d.io.read_image(path)) * scale\n",
    "depth = open3d.geometry.Image(depth.astype(np.float32))\n",
    "\n",
    "plt.imshow(depth)\n",
    "plt.show()"
   ],
   "metadata": {
    "collapsed": false,
    "ExecuteTime": {
     "end_time": "2024-03-22T09:21:54.985619Z",
     "start_time": "2024-03-22T09:21:50.543623Z"
    }
   },
   "id": "ed7e7f3b236e813a",
   "execution_count": 39
  },
  {
   "cell_type": "code",
   "execution_count": 40,
   "id": "initial_id",
   "metadata": {
    "collapsed": true,
    "ExecuteTime": {
     "end_time": "2024-03-22T09:21:57.590963Z",
     "start_time": "2024-03-22T09:21:54.988614Z"
    }
   },
   "outputs": [],
   "source": [
    "points = []\n",
    "\n",
    "def mouse_event(event):\n",
    "    global points\n",
    "    global rgb_copy\n",
    "\n",
    "    points.append([int(event.xdata), int(event.ydata)])\n",
    "\n",
    "    if len(points) == 3:\n",
    "        plt.close()\n",
    "\n",
    "fig = plt.figure(figsize=(10, 10))\n",
    "cid = fig.canvas.mpl_connect('button_press_event', mouse_event)\n",
    "# plt.imshow(cv2.cvtColor(rgb, cv2.COLOR_BGR2RGB))\n",
    "plt.imshow(depth)\n",
    "plt.show()\n",
    "\n",
    "# rgb_copy = rgb.copy()\n",
    "depth_copy = np.asarray(depth).copy()\n",
    "for p in points:\n",
    "    # marked_image = cv2.circle(rgb_copy, p, 3, (0, 255, 0), 2)\n",
    "    marked_image = cv2.circle(depth_copy, p, 3, (0, 255, 0), 2)\n",
    "\n",
    "fig = plt.figure(figsize=(10, 10))\n",
    "# plt.imshow(cv2.cvtColor(rgb_copy, cv2.COLOR_BGR2RGB))\n",
    "plt.imshow(marked_image)\n",
    "plt.show()"
   ]
  },
  {
   "cell_type": "code",
   "outputs": [],
   "source": [
    "fig, ax = plt.subplots()\n",
    "ax.imshow(depth, cmap=\"gray\")\n",
    "roi = None\n",
    "\n",
    "def line_select_callback(eclick, erelease):\n",
    "    x1, y1 = eclick.xdata, eclick.ydata\n",
    "    x2, y2 = erelease.xdata, erelease.ydata\n",
    "    global roi\n",
    "    roi = [[int(x1), int(y1)], [int(x2), int(y2)]]\n",
    "    plt.close()\n",
    "\n",
    "rs = RectangleSelector(ax, line_select_callback,\n",
    "                       useblit=False, button=[1],\n",
    "                       minspanx=5, minspany=5, spancoords='pixels',\n",
    "                       interactive=True)\n",
    "\n",
    "\n",
    "plt.connect(\"key_press_event\", rs)\n",
    "plt.show()"
   ],
   "metadata": {
    "collapsed": false,
    "ExecuteTime": {
     "end_time": "2024-03-22T09:21:59.000757Z",
     "start_time": "2024-03-22T09:21:57.592960Z"
    }
   },
   "id": "bf24d7f6c03d071c",
   "execution_count": 41
  },
  {
   "cell_type": "code",
   "outputs": [],
   "source": [
    "roi"
   ],
   "metadata": {
    "collapsed": false,
    "ExecuteTime": {
     "end_time": "2024-03-22T09:21:59.009738Z",
     "start_time": "2024-03-22T09:21:59.004750Z"
    }
   },
   "id": "b9fa5b849ae7b98e",
   "execution_count": 42
  },
  {
   "cell_type": "code",
   "outputs": [
    {
     "ename": "TypeError",
     "evalue": "'NoneType' object is not subscriptable",
     "output_type": "error",
     "traceback": [
      "\u001B[1;31m---------------------------------------------------------------------------\u001B[0m",
      "\u001B[1;31mTypeError\u001B[0m                                 Traceback (most recent call last)",
      "Cell \u001B[1;32mIn[43], line 7\u001B[0m\n\u001B[0;32m      3\u001B[0m mask \u001B[38;5;241m=\u001B[39m np\u001B[38;5;241m.\u001B[39mzeros(npdepth\u001B[38;5;241m.\u001B[39mshape)\n\u001B[0;32m      5\u001B[0m temp_mask[npdepth \u001B[38;5;241m==\u001B[39m \u001B[38;5;241m0\u001B[39m] \u001B[38;5;241m=\u001B[39m \u001B[38;5;241m1\u001B[39m\n\u001B[1;32m----> 7\u001B[0m mask[roi[\u001B[38;5;241m0\u001B[39m][\u001B[38;5;241m1\u001B[39m]:roi[\u001B[38;5;241m1\u001B[39m][\u001B[38;5;241m1\u001B[39m], roi[\u001B[38;5;241m0\u001B[39m][\u001B[38;5;241m0\u001B[39m]:roi[\u001B[38;5;241m1\u001B[39m][\u001B[38;5;241m0\u001B[39m]] \u001B[38;5;241m=\u001B[39m temp_mask[roi[\u001B[38;5;241m0\u001B[39m][\u001B[38;5;241m1\u001B[39m]:roi[\u001B[38;5;241m1\u001B[39m][\u001B[38;5;241m1\u001B[39m], roi[\u001B[38;5;241m0\u001B[39m][\u001B[38;5;241m0\u001B[39m]:roi[\u001B[38;5;241m1\u001B[39m][\u001B[38;5;241m0\u001B[39m]]\n\u001B[0;32m      9\u001B[0m plt\u001B[38;5;241m.\u001B[39mimshow(mask)\n\u001B[0;32m     10\u001B[0m plt\u001B[38;5;241m.\u001B[39mshow()\n",
      "\u001B[1;31mTypeError\u001B[0m: 'NoneType' object is not subscriptable"
     ]
    }
   ],
   "source": [
    "npdepth = np.asarray(depth)\n",
    "temp_mask = np.zeros(npdepth.shape)\n",
    "mask = np.zeros(npdepth.shape)\n",
    "\n",
    "temp_mask[npdepth == 0] = 1\n",
    "\n",
    "mask[roi[0][1]:roi[1][1], roi[0][0]:roi[1][0]] = temp_mask[roi[0][1]:roi[1][1], roi[0][0]:roi[1][0]]\n",
    "\n",
    "plt.imshow(mask)\n",
    "plt.show()\n",
    "# mask.shape"
   ],
   "metadata": {
    "collapsed": false,
    "ExecuteTime": {
     "end_time": "2024-03-22T09:21:59.081660Z",
     "start_time": "2024-03-22T09:21:59.013897Z"
    }
   },
   "id": "2101e278a688e58c",
   "execution_count": 43
  },
  {
   "cell_type": "code",
   "outputs": [],
   "source": [
    "intr = Intrinsics(width=640, height=480)"
   ],
   "metadata": {
    "collapsed": false,
    "ExecuteTime": {
     "start_time": "2024-03-22T09:21:59.083652Z"
    }
   },
   "id": "c6c73b327f7893a3",
   "execution_count": null
  },
  {
   "cell_type": "code",
   "outputs": [],
   "source": [
    "point_mask = np.zeros(npdepth.shape)\n",
    "\n",
    "for p in points:\n",
    "    point_mask[p[1], p[0]] = npdepth[p[1], p[0]]\n",
    "\n",
    "markers_o3d = open3d.geometry.Image(point_mask.astype(np.float32))\n",
    "intr = Intrinsics(width=640, height=480)\n",
    "\n",
    "m_pcd = open3d.geometry.PointCloud.create_from_depth_image(markers_o3d, intrinsic=intr.get_intrinsics())\n",
    "m_pcd.transform([[1, 0, 0, 0], [0, -1, 0, 0], [0, 0, -1, 0], [0, 0, 0, 1]])\n",
    "m_pcd.paint_uniform_color([1.0, 0, 0])\n",
    "\n",
    "points3d = np.asarray(m_pcd.points).copy()\n",
    "\n",
    "u_1 = points3d[1] - points3d[2]\n",
    "u_2 = points3d[0] - points3d[2]\n",
    "\n",
    "n = np.cross(u_1, u_2)\n",
    "R = Rotation.align_vectors([0, 1, 0], n)[0].as_matrix()"
   ],
   "metadata": {
    "collapsed": false
   },
   "id": "ce27fbb0c5996924",
   "execution_count": null
  },
  {
   "cell_type": "code",
   "outputs": [],
   "source": [
    "m_pcd.translate(-points3d[2])\n",
    "m_pcd.rotate(R, center=(0, 0, 0))"
   ],
   "metadata": {
    "collapsed": false
   },
   "id": "e5e1b2674ddf0994",
   "execution_count": null
  },
  {
   "cell_type": "code",
   "outputs": [],
   "source": [
    "npdepth = inpaint.inpaint_biharmonic(npdepth, mask)\n",
    "    \n",
    "depth = open3d.geometry.Image(npdepth.astype(np.float32))\n",
    "\n",
    "pcd = open3d.geometry.PointCloud.create_from_depth_image(depth=depth, intrinsic=intr.get_intrinsics())\n",
    "pcd.transform([[1, 0, 0, 0], [0, -1, 0, 0], [0, 0, -1, 0], [0, 0, 0, 1]])\n",
    "pcd.translate(-points3d[2])\n",
    "pcd.rotate(R, center=(0, 0, 0))"
   ],
   "metadata": {
    "collapsed": false,
    "ExecuteTime": {
     "start_time": "2024-03-22T09:21:59.088641Z"
    }
   },
   "id": "e0dc9e1503065c88",
   "execution_count": null
  },
  {
   "cell_type": "code",
   "outputs": [],
   "source": [
    "axes = open3d.geometry.TriangleMesh.create_coordinate_frame()\n",
    "open3d.visualization.draw_geometries([pcd, axes])"
   ],
   "metadata": {
    "collapsed": false,
    "ExecuteTime": {
     "start_time": "2024-03-22T09:21:59.090636Z"
    }
   },
   "id": "8f14ceddbef8352f",
   "execution_count": null
  },
  {
   "cell_type": "code",
   "outputs": [],
   "source": [],
   "metadata": {
    "collapsed": false
   },
   "id": "34307d0c08c787c3"
  }
 ],
 "metadata": {
  "kernelspec": {
   "display_name": "Python 3",
   "language": "python",
   "name": "python3"
  },
  "language_info": {
   "codemirror_mode": {
    "name": "ipython",
    "version": 2
   },
   "file_extension": ".py",
   "mimetype": "text/x-python",
   "name": "python",
   "nbconvert_exporter": "python",
   "pygments_lexer": "ipython2",
   "version": "2.7.6"
  }
 },
 "nbformat": 4,
 "nbformat_minor": 5
}
