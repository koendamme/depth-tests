{
 "cells": [
  {
   "cell_type": "code",
   "execution_count": 1,
   "metadata": {
    "collapsed": true
   },
   "outputs": [],
   "source": [
    "import pydicom\n",
    "import glob\n",
    "import matplotlib.pyplot as plt\n",
    "import cv2\n",
    "import numpy as np\n",
    "from datetime import datetime"
   ]
  },
  {
   "cell_type": "code",
   "execution_count": 8,
   "outputs": [],
   "source": [
    "paths = glob.glob(\"../A/DICOM/I*\")\n",
    "paths.sort(key=lambda x: int(x.split(\"/I\")[1]))\n",
    "\n",
    "cartesian_paths = []"
   ],
   "metadata": {
    "collapsed": false
   }
  },
  {
   "cell_type": "code",
   "execution_count": 9,
   "outputs": [],
   "source": [
    "\n",
    "\n",
    "for i, path in enumerate(paths):\n",
    "    dcm = pydicom.dcmread(path)\n",
    "    try:\n",
    "        img = dcm.pixel_array\n",
    "        if dcm.SeriesDescription.startswith(\"DynbFFE\") and 'M_FFE' in dcm.ImageType:\n",
    "            cartesian_paths.append(path)\n",
    "    except:\n",
    "        pass"
   ],
   "metadata": {
    "collapsed": false
   }
  },
  {
   "cell_type": "code",
   "execution_count": 10,
   "outputs": [
    {
     "data": {
      "text/plain": "['../A/DICOM/I40',\n '../A/DICOM/I41',\n '../A/DICOM/I42',\n '../A/DICOM/I43',\n '../A/DICOM/I44',\n '../A/DICOM/I45',\n '../A/DICOM/I46',\n '../A/DICOM/I47',\n '../A/DICOM/I48',\n '../A/DICOM/I49',\n '../A/DICOM/I61',\n '../A/DICOM/I62',\n '../A/DICOM/I63',\n '../A/DICOM/I64',\n '../A/DICOM/I65',\n '../A/DICOM/I66',\n '../A/DICOM/I67',\n '../A/DICOM/I68',\n '../A/DICOM/I69',\n '../A/DICOM/I70',\n '../A/DICOM/I82',\n '../A/DICOM/I83',\n '../A/DICOM/I84',\n '../A/DICOM/I85',\n '../A/DICOM/I86',\n '../A/DICOM/I87',\n '../A/DICOM/I88',\n '../A/DICOM/I89',\n '../A/DICOM/I90',\n '../A/DICOM/I91',\n '../A/DICOM/I92',\n '../A/DICOM/I93',\n '../A/DICOM/I94',\n '../A/DICOM/I95',\n '../A/DICOM/I96',\n '../A/DICOM/I97',\n '../A/DICOM/I98',\n '../A/DICOM/I99',\n '../A/DICOM/I100',\n '../A/DICOM/I101',\n '../A/DICOM/I102',\n '../A/DICOM/I103',\n '../A/DICOM/I104',\n '../A/DICOM/I105',\n '../A/DICOM/I106',\n '../A/DICOM/I107',\n '../A/DICOM/I108',\n '../A/DICOM/I109',\n '../A/DICOM/I110',\n '../A/DICOM/I111',\n '../A/DICOM/I112',\n '../A/DICOM/I113',\n '../A/DICOM/I114',\n '../A/DICOM/I115',\n '../A/DICOM/I116',\n '../A/DICOM/I117',\n '../A/DICOM/I118',\n '../A/DICOM/I119',\n '../A/DICOM/I120',\n '../A/DICOM/I121',\n '../A/DICOM/I122',\n '../A/DICOM/I123',\n '../A/DICOM/I124',\n '../A/DICOM/I125',\n '../A/DICOM/I126',\n '../A/DICOM/I127',\n '../A/DICOM/I128',\n '../A/DICOM/I129',\n '../A/DICOM/I130',\n '../A/DICOM/I131',\n '../A/DICOM/I132',\n '../A/DICOM/I133',\n '../A/DICOM/I134',\n '../A/DICOM/I135',\n '../A/DICOM/I136',\n '../A/DICOM/I137',\n '../A/DICOM/I138',\n '../A/DICOM/I139',\n '../A/DICOM/I140',\n '../A/DICOM/I141',\n '../A/DICOM/I142',\n '../A/DICOM/I143',\n '../A/DICOM/I144',\n '../A/DICOM/I145',\n '../A/DICOM/I146',\n '../A/DICOM/I147',\n '../A/DICOM/I148',\n '../A/DICOM/I149',\n '../A/DICOM/I150',\n '../A/DICOM/I151',\n '../A/DICOM/I152',\n '../A/DICOM/I153',\n '../A/DICOM/I154',\n '../A/DICOM/I155',\n '../A/DICOM/I156',\n '../A/DICOM/I157',\n '../A/DICOM/I158',\n '../A/DICOM/I159',\n '../A/DICOM/I160',\n '../A/DICOM/I161',\n '../A/DICOM/I162',\n '../A/DICOM/I163',\n '../A/DICOM/I164',\n '../A/DICOM/I165',\n '../A/DICOM/I166',\n '../A/DICOM/I167',\n '../A/DICOM/I168',\n '../A/DICOM/I169',\n '../A/DICOM/I170',\n '../A/DICOM/I171',\n '../A/DICOM/I172',\n '../A/DICOM/I173',\n '../A/DICOM/I174',\n '../A/DICOM/I175',\n '../A/DICOM/I176',\n '../A/DICOM/I177',\n '../A/DICOM/I178',\n '../A/DICOM/I179',\n '../A/DICOM/I180',\n '../A/DICOM/I181',\n '../A/DICOM/I182',\n '../A/DICOM/I183',\n '../A/DICOM/I184',\n '../A/DICOM/I185',\n '../A/DICOM/I186',\n '../A/DICOM/I187',\n '../A/DICOM/I188',\n '../A/DICOM/I189',\n '../A/DICOM/I190',\n '../A/DICOM/I191',\n '../A/DICOM/I192',\n '../A/DICOM/I193',\n '../A/DICOM/I194',\n '../A/DICOM/I195',\n '../A/DICOM/I196',\n '../A/DICOM/I197',\n '../A/DICOM/I198',\n '../A/DICOM/I199',\n '../A/DICOM/I200',\n '../A/DICOM/I201',\n '../A/DICOM/I202',\n '../A/DICOM/I203',\n '../A/DICOM/I204',\n '../A/DICOM/I205',\n '../A/DICOM/I206',\n '../A/DICOM/I207',\n '../A/DICOM/I208',\n '../A/DICOM/I209',\n '../A/DICOM/I210',\n '../A/DICOM/I211',\n '../A/DICOM/I212',\n '../A/DICOM/I213',\n '../A/DICOM/I214',\n '../A/DICOM/I215',\n '../A/DICOM/I216',\n '../A/DICOM/I217',\n '../A/DICOM/I218',\n '../A/DICOM/I219',\n '../A/DICOM/I220',\n '../A/DICOM/I221',\n '../A/DICOM/I222',\n '../A/DICOM/I223',\n '../A/DICOM/I224',\n '../A/DICOM/I225',\n '../A/DICOM/I226',\n '../A/DICOM/I227',\n '../A/DICOM/I228',\n '../A/DICOM/I229',\n '../A/DICOM/I230',\n '../A/DICOM/I231',\n '../A/DICOM/I232',\n '../A/DICOM/I233',\n '../A/DICOM/I234',\n '../A/DICOM/I235',\n '../A/DICOM/I236',\n '../A/DICOM/I237',\n '../A/DICOM/I238',\n '../A/DICOM/I239',\n '../A/DICOM/I240',\n '../A/DICOM/I241',\n '../A/DICOM/I242',\n '../A/DICOM/I243',\n '../A/DICOM/I244',\n '../A/DICOM/I245',\n '../A/DICOM/I246',\n '../A/DICOM/I247',\n '../A/DICOM/I248',\n '../A/DICOM/I249',\n '../A/DICOM/I250',\n '../A/DICOM/I251',\n '../A/DICOM/I252',\n '../A/DICOM/I253',\n '../A/DICOM/I254',\n '../A/DICOM/I255',\n '../A/DICOM/I256',\n '../A/DICOM/I257',\n '../A/DICOM/I258',\n '../A/DICOM/I259',\n '../A/DICOM/I260',\n '../A/DICOM/I261',\n '../A/DICOM/I262',\n '../A/DICOM/I263',\n '../A/DICOM/I264',\n '../A/DICOM/I265',\n '../A/DICOM/I266',\n '../A/DICOM/I267',\n '../A/DICOM/I268',\n '../A/DICOM/I269',\n '../A/DICOM/I270',\n '../A/DICOM/I271',\n '../A/DICOM/I272',\n '../A/DICOM/I273',\n '../A/DICOM/I274',\n '../A/DICOM/I275',\n '../A/DICOM/I276',\n '../A/DICOM/I277',\n '../A/DICOM/I278',\n '../A/DICOM/I279',\n '../A/DICOM/I280',\n '../A/DICOM/I281',\n '../A/DICOM/I282',\n '../A/DICOM/I283',\n '../A/DICOM/I284',\n '../A/DICOM/I285',\n '../A/DICOM/I286',\n '../A/DICOM/I287',\n '../A/DICOM/I288',\n '../A/DICOM/I289',\n '../A/DICOM/I290',\n '../A/DICOM/I291',\n '../A/DICOM/I292',\n '../A/DICOM/I293',\n '../A/DICOM/I294',\n '../A/DICOM/I295',\n '../A/DICOM/I296',\n '../A/DICOM/I297',\n '../A/DICOM/I298',\n '../A/DICOM/I299',\n '../A/DICOM/I300',\n '../A/DICOM/I301',\n '../A/DICOM/I302',\n '../A/DICOM/I303',\n '../A/DICOM/I304',\n '../A/DICOM/I305',\n '../A/DICOM/I306',\n '../A/DICOM/I307',\n '../A/DICOM/I308',\n '../A/DICOM/I309',\n '../A/DICOM/I310',\n '../A/DICOM/I311',\n '../A/DICOM/I312',\n '../A/DICOM/I313',\n '../A/DICOM/I314',\n '../A/DICOM/I315',\n '../A/DICOM/I316',\n '../A/DICOM/I317',\n '../A/DICOM/I318',\n '../A/DICOM/I319',\n '../A/DICOM/I320',\n '../A/DICOM/I321',\n '../A/DICOM/I322',\n '../A/DICOM/I323',\n '../A/DICOM/I324',\n '../A/DICOM/I325',\n '../A/DICOM/I326',\n '../A/DICOM/I327',\n '../A/DICOM/I328',\n '../A/DICOM/I329',\n '../A/DICOM/I330',\n '../A/DICOM/I331',\n '../A/DICOM/I332',\n '../A/DICOM/I333',\n '../A/DICOM/I334',\n '../A/DICOM/I335',\n '../A/DICOM/I336',\n '../A/DICOM/I337',\n '../A/DICOM/I338',\n '../A/DICOM/I339',\n '../A/DICOM/I340',\n '../A/DICOM/I341',\n '../A/DICOM/I342',\n '../A/DICOM/I343',\n '../A/DICOM/I344',\n '../A/DICOM/I345',\n '../A/DICOM/I346',\n '../A/DICOM/I347',\n '../A/DICOM/I348',\n '../A/DICOM/I349',\n '../A/DICOM/I350',\n '../A/DICOM/I351',\n '../A/DICOM/I352',\n '../A/DICOM/I353',\n '../A/DICOM/I354',\n '../A/DICOM/I355',\n '../A/DICOM/I356',\n '../A/DICOM/I357',\n '../A/DICOM/I358',\n '../A/DICOM/I359',\n '../A/DICOM/I360',\n '../A/DICOM/I361',\n '../A/DICOM/I362',\n '../A/DICOM/I363',\n '../A/DICOM/I364',\n '../A/DICOM/I365',\n '../A/DICOM/I366',\n '../A/DICOM/I367',\n '../A/DICOM/I368',\n '../A/DICOM/I369',\n '../A/DICOM/I370',\n '../A/DICOM/I371',\n '../A/DICOM/I372',\n '../A/DICOM/I373',\n '../A/DICOM/I374',\n '../A/DICOM/I375',\n '../A/DICOM/I376',\n '../A/DICOM/I377',\n '../A/DICOM/I378',\n '../A/DICOM/I379',\n '../A/DICOM/I380',\n '../A/DICOM/I381',\n '../A/DICOM/I382',\n '../A/DICOM/I383',\n '../A/DICOM/I384',\n '../A/DICOM/I385',\n '../A/DICOM/I386',\n '../A/DICOM/I387',\n '../A/DICOM/I388',\n '../A/DICOM/I389',\n '../A/DICOM/I390',\n '../A/DICOM/I391',\n '../A/DICOM/I392',\n '../A/DICOM/I393',\n '../A/DICOM/I394',\n '../A/DICOM/I395',\n '../A/DICOM/I396',\n '../A/DICOM/I397',\n '../A/DICOM/I398',\n '../A/DICOM/I399',\n '../A/DICOM/I400',\n '../A/DICOM/I401',\n '../A/DICOM/I402',\n '../A/DICOM/I403',\n '../A/DICOM/I404',\n '../A/DICOM/I405',\n '../A/DICOM/I406',\n '../A/DICOM/I407',\n '../A/DICOM/I408',\n '../A/DICOM/I409',\n '../A/DICOM/I410',\n '../A/DICOM/I411',\n '../A/DICOM/I412',\n '../A/DICOM/I413',\n '../A/DICOM/I414',\n '../A/DICOM/I415',\n '../A/DICOM/I416',\n '../A/DICOM/I417',\n '../A/DICOM/I418',\n '../A/DICOM/I419',\n '../A/DICOM/I420',\n '../A/DICOM/I421',\n '../A/DICOM/I422',\n '../A/DICOM/I423',\n '../A/DICOM/I424',\n '../A/DICOM/I425',\n '../A/DICOM/I426',\n '../A/DICOM/I427',\n '../A/DICOM/I428',\n '../A/DICOM/I429',\n '../A/DICOM/I430',\n '../A/DICOM/I431',\n '../A/DICOM/I432',\n '../A/DICOM/I433',\n '../A/DICOM/I434',\n '../A/DICOM/I435',\n '../A/DICOM/I436',\n '../A/DICOM/I437',\n '../A/DICOM/I438',\n '../A/DICOM/I439',\n '../A/DICOM/I440',\n '../A/DICOM/I441',\n '../A/DICOM/I442',\n '../A/DICOM/I443',\n '../A/DICOM/I444',\n '../A/DICOM/I445',\n '../A/DICOM/I446',\n '../A/DICOM/I447',\n '../A/DICOM/I448',\n '../A/DICOM/I449',\n '../A/DICOM/I450',\n '../A/DICOM/I451',\n '../A/DICOM/I452',\n '../A/DICOM/I453',\n '../A/DICOM/I454',\n '../A/DICOM/I455',\n '../A/DICOM/I456',\n '../A/DICOM/I457',\n '../A/DICOM/I458',\n '../A/DICOM/I459',\n '../A/DICOM/I460',\n '../A/DICOM/I461',\n '../A/DICOM/I462',\n '../A/DICOM/I463',\n '../A/DICOM/I464',\n '../A/DICOM/I465',\n '../A/DICOM/I466',\n '../A/DICOM/I467',\n '../A/DICOM/I468',\n '../A/DICOM/I469',\n '../A/DICOM/I470',\n '../A/DICOM/I471',\n '../A/DICOM/I472',\n '../A/DICOM/I473',\n '../A/DICOM/I474',\n '../A/DICOM/I475',\n '../A/DICOM/I476',\n '../A/DICOM/I477',\n '../A/DICOM/I478',\n '../A/DICOM/I479',\n '../A/DICOM/I480',\n '../A/DICOM/I481',\n '../A/DICOM/I482',\n '../A/DICOM/I483',\n '../A/DICOM/I484',\n '../A/DICOM/I485',\n '../A/DICOM/I486',\n '../A/DICOM/I487',\n '../A/DICOM/I488',\n '../A/DICOM/I489',\n '../A/DICOM/I490',\n '../A/DICOM/I491',\n '../A/DICOM/I492',\n '../A/DICOM/I493',\n '../A/DICOM/I494',\n '../A/DICOM/I495',\n '../A/DICOM/I496',\n '../A/DICOM/I497',\n '../A/DICOM/I498',\n '../A/DICOM/I499',\n '../A/DICOM/I500',\n '../A/DICOM/I501',\n '../A/DICOM/I502',\n '../A/DICOM/I503',\n '../A/DICOM/I504',\n '../A/DICOM/I505',\n '../A/DICOM/I506',\n '../A/DICOM/I507',\n '../A/DICOM/I508',\n '../A/DICOM/I509',\n '../A/DICOM/I510',\n '../A/DICOM/I511',\n '../A/DICOM/I512',\n '../A/DICOM/I513',\n '../A/DICOM/I514',\n '../A/DICOM/I515',\n '../A/DICOM/I516',\n '../A/DICOM/I517',\n '../A/DICOM/I518',\n '../A/DICOM/I519',\n '../A/DICOM/I520',\n '../A/DICOM/I521',\n '../A/DICOM/I522',\n '../A/DICOM/I523',\n '../A/DICOM/I524',\n '../A/DICOM/I525',\n '../A/DICOM/I526',\n '../A/DICOM/I527',\n '../A/DICOM/I528',\n '../A/DICOM/I529',\n '../A/DICOM/I530',\n '../A/DICOM/I531',\n '../A/DICOM/I532',\n '../A/DICOM/I533',\n '../A/DICOM/I534',\n '../A/DICOM/I535',\n '../A/DICOM/I536',\n '../A/DICOM/I537',\n '../A/DICOM/I538',\n '../A/DICOM/I539',\n '../A/DICOM/I540',\n '../A/DICOM/I541',\n '../A/DICOM/I542',\n '../A/DICOM/I543',\n '../A/DICOM/I544',\n '../A/DICOM/I545',\n '../A/DICOM/I546',\n '../A/DICOM/I547',\n '../A/DICOM/I548',\n '../A/DICOM/I549',\n '../A/DICOM/I550',\n '../A/DICOM/I551',\n '../A/DICOM/I552',\n '../A/DICOM/I553',\n '../A/DICOM/I554',\n '../A/DICOM/I555',\n '../A/DICOM/I556',\n '../A/DICOM/I557',\n '../A/DICOM/I558',\n '../A/DICOM/I559',\n '../A/DICOM/I560',\n '../A/DICOM/I561',\n '../A/DICOM/I562',\n '../A/DICOM/I563',\n '../A/DICOM/I564',\n '../A/DICOM/I565',\n '../A/DICOM/I566',\n '../A/DICOM/I567',\n '../A/DICOM/I568',\n '../A/DICOM/I569',\n '../A/DICOM/I570',\n '../A/DICOM/I571',\n '../A/DICOM/I572',\n '../A/DICOM/I573',\n '../A/DICOM/I574',\n '../A/DICOM/I575',\n '../A/DICOM/I576',\n '../A/DICOM/I577',\n '../A/DICOM/I578',\n '../A/DICOM/I579',\n '../A/DICOM/I580',\n '../A/DICOM/I581',\n '../A/DICOM/I582',\n '../A/DICOM/I583',\n '../A/DICOM/I584',\n '../A/DICOM/I585',\n '../A/DICOM/I586',\n '../A/DICOM/I587',\n '../A/DICOM/I588',\n '../A/DICOM/I589',\n '../A/DICOM/I590',\n '../A/DICOM/I591',\n '../A/DICOM/I592',\n '../A/DICOM/I593',\n '../A/DICOM/I594',\n '../A/DICOM/I595',\n '../A/DICOM/I596',\n '../A/DICOM/I597',\n '../A/DICOM/I598',\n '../A/DICOM/I599',\n '../A/DICOM/I600',\n '../A/DICOM/I601',\n '../A/DICOM/I602',\n '../A/DICOM/I603',\n '../A/DICOM/I604',\n '../A/DICOM/I605',\n '../A/DICOM/I606',\n '../A/DICOM/I607',\n '../A/DICOM/I608',\n '../A/DICOM/I609',\n '../A/DICOM/I610',\n '../A/DICOM/I611',\n '../A/DICOM/I612',\n '../A/DICOM/I613',\n '../A/DICOM/I614',\n '../A/DICOM/I615',\n '../A/DICOM/I616',\n '../A/DICOM/I617',\n '../A/DICOM/I618',\n '../A/DICOM/I619',\n '../A/DICOM/I620',\n '../A/DICOM/I621',\n '../A/DICOM/I622',\n '../A/DICOM/I623',\n '../A/DICOM/I624',\n '../A/DICOM/I625',\n '../A/DICOM/I626',\n '../A/DICOM/I627',\n '../A/DICOM/I628',\n '../A/DICOM/I629',\n '../A/DICOM/I630',\n '../A/DICOM/I631',\n '../A/DICOM/I632',\n '../A/DICOM/I633',\n '../A/DICOM/I634',\n '../A/DICOM/I635',\n '../A/DICOM/I636',\n '../A/DICOM/I637',\n '../A/DICOM/I638',\n '../A/DICOM/I639',\n '../A/DICOM/I640',\n '../A/DICOM/I641',\n '../A/DICOM/I642',\n '../A/DICOM/I643',\n '../A/DICOM/I644',\n '../A/DICOM/I645',\n '../A/DICOM/I646',\n '../A/DICOM/I647',\n '../A/DICOM/I648',\n '../A/DICOM/I649',\n '../A/DICOM/I650',\n '../A/DICOM/I651',\n '../A/DICOM/I652',\n '../A/DICOM/I653',\n '../A/DICOM/I654',\n '../A/DICOM/I655',\n '../A/DICOM/I656',\n '../A/DICOM/I657',\n '../A/DICOM/I658',\n '../A/DICOM/I659',\n '../A/DICOM/I660',\n '../A/DICOM/I661',\n '../A/DICOM/I662',\n '../A/DICOM/I663',\n '../A/DICOM/I664',\n '../A/DICOM/I665',\n '../A/DICOM/I666',\n '../A/DICOM/I667',\n '../A/DICOM/I668',\n '../A/DICOM/I669',\n '../A/DICOM/I670',\n '../A/DICOM/I671',\n '../A/DICOM/I672',\n '../A/DICOM/I673',\n '../A/DICOM/I674',\n '../A/DICOM/I675',\n '../A/DICOM/I676',\n '../A/DICOM/I677',\n '../A/DICOM/I678',\n '../A/DICOM/I679',\n '../A/DICOM/I680',\n '../A/DICOM/I681',\n '../A/DICOM/I682',\n '../A/DICOM/I683',\n '../A/DICOM/I684',\n '../A/DICOM/I685',\n '../A/DICOM/I686',\n '../A/DICOM/I687',\n '../A/DICOM/I688',\n '../A/DICOM/I689',\n '../A/DICOM/I690',\n '../A/DICOM/I691',\n '../A/DICOM/I692',\n '../A/DICOM/I693',\n '../A/DICOM/I694',\n '../A/DICOM/I695',\n '../A/DICOM/I696',\n '../A/DICOM/I697',\n '../A/DICOM/I698',\n '../A/DICOM/I699',\n '../A/DICOM/I700',\n '../A/DICOM/I701',\n '../A/DICOM/I702',\n '../A/DICOM/I703',\n '../A/DICOM/I704',\n '../A/DICOM/I705',\n '../A/DICOM/I706',\n '../A/DICOM/I707',\n '../A/DICOM/I708',\n '../A/DICOM/I709',\n '../A/DICOM/I710',\n '../A/DICOM/I711',\n '../A/DICOM/I712',\n '../A/DICOM/I713',\n '../A/DICOM/I714',\n '../A/DICOM/I715',\n '../A/DICOM/I716',\n '../A/DICOM/I717',\n '../A/DICOM/I718',\n '../A/DICOM/I719',\n '../A/DICOM/I720',\n '../A/DICOM/I721',\n '../A/DICOM/I722',\n '../A/DICOM/I723',\n '../A/DICOM/I724',\n '../A/DICOM/I725',\n '../A/DICOM/I726',\n '../A/DICOM/I727',\n '../A/DICOM/I728',\n '../A/DICOM/I729',\n '../A/DICOM/I730',\n '../A/DICOM/I731',\n '../A/DICOM/I732',\n '../A/DICOM/I733',\n '../A/DICOM/I734',\n '../A/DICOM/I735',\n '../A/DICOM/I736',\n '../A/DICOM/I737',\n '../A/DICOM/I738',\n '../A/DICOM/I739',\n '../A/DICOM/I740',\n '../A/DICOM/I741',\n '../A/DICOM/I742',\n '../A/DICOM/I743',\n '../A/DICOM/I744',\n '../A/DICOM/I745',\n '../A/DICOM/I746',\n '../A/DICOM/I747',\n '../A/DICOM/I748',\n '../A/DICOM/I749',\n '../A/DICOM/I750',\n '../A/DICOM/I751',\n '../A/DICOM/I752',\n '../A/DICOM/I753',\n '../A/DICOM/I754',\n '../A/DICOM/I755',\n '../A/DICOM/I756',\n '../A/DICOM/I757',\n '../A/DICOM/I758',\n '../A/DICOM/I759',\n '../A/DICOM/I760',\n '../A/DICOM/I761',\n '../A/DICOM/I762',\n '../A/DICOM/I763',\n '../A/DICOM/I764',\n '../A/DICOM/I765',\n '../A/DICOM/I766',\n '../A/DICOM/I767',\n '../A/DICOM/I768',\n '../A/DICOM/I769',\n '../A/DICOM/I770',\n '../A/DICOM/I771',\n '../A/DICOM/I772',\n '../A/DICOM/I773',\n '../A/DICOM/I774',\n '../A/DICOM/I775',\n '../A/DICOM/I776',\n '../A/DICOM/I777',\n '../A/DICOM/I778',\n '../A/DICOM/I779',\n '../A/DICOM/I780',\n '../A/DICOM/I781',\n '../A/DICOM/I782',\n '../A/DICOM/I783',\n '../A/DICOM/I784',\n '../A/DICOM/I785',\n '../A/DICOM/I786',\n '../A/DICOM/I787',\n '../A/DICOM/I788',\n '../A/DICOM/I789',\n '../A/DICOM/I790',\n '../A/DICOM/I791',\n '../A/DICOM/I792',\n '../A/DICOM/I793',\n '../A/DICOM/I794',\n '../A/DICOM/I795',\n '../A/DICOM/I796',\n '../A/DICOM/I797',\n '../A/DICOM/I798',\n '../A/DICOM/I799',\n '../A/DICOM/I800',\n '../A/DICOM/I801',\n '../A/DICOM/I802',\n '../A/DICOM/I803',\n '../A/DICOM/I804',\n '../A/DICOM/I805',\n '../A/DICOM/I806',\n '../A/DICOM/I807',\n '../A/DICOM/I808',\n '../A/DICOM/I809',\n '../A/DICOM/I810',\n '../A/DICOM/I811',\n '../A/DICOM/I812',\n '../A/DICOM/I813',\n '../A/DICOM/I814',\n '../A/DICOM/I815',\n '../A/DICOM/I816',\n '../A/DICOM/I817',\n '../A/DICOM/I818',\n '../A/DICOM/I819',\n '../A/DICOM/I820',\n '../A/DICOM/I821',\n '../A/DICOM/I822',\n '../A/DICOM/I823',\n '../A/DICOM/I824',\n '../A/DICOM/I825',\n '../A/DICOM/I826',\n '../A/DICOM/I827',\n '../A/DICOM/I828',\n '../A/DICOM/I829',\n '../A/DICOM/I830',\n '../A/DICOM/I831',\n '../A/DICOM/I832',\n '../A/DICOM/I833',\n '../A/DICOM/I834',\n '../A/DICOM/I835',\n '../A/DICOM/I836',\n '../A/DICOM/I837',\n '../A/DICOM/I838',\n '../A/DICOM/I839',\n '../A/DICOM/I840',\n '../A/DICOM/I841',\n '../A/DICOM/I842',\n '../A/DICOM/I843',\n '../A/DICOM/I844',\n '../A/DICOM/I845',\n '../A/DICOM/I846',\n '../A/DICOM/I847',\n '../A/DICOM/I848',\n '../A/DICOM/I849',\n '../A/DICOM/I850',\n '../A/DICOM/I851',\n '../A/DICOM/I852',\n '../A/DICOM/I853',\n '../A/DICOM/I854',\n '../A/DICOM/I855',\n '../A/DICOM/I856',\n '../A/DICOM/I857',\n '../A/DICOM/I858',\n '../A/DICOM/I859',\n '../A/DICOM/I860',\n '../A/DICOM/I861',\n '../A/DICOM/I862',\n '../A/DICOM/I863',\n '../A/DICOM/I864',\n '../A/DICOM/I865',\n '../A/DICOM/I866',\n '../A/DICOM/I867',\n '../A/DICOM/I868',\n '../A/DICOM/I869',\n '../A/DICOM/I870',\n '../A/DICOM/I871',\n '../A/DICOM/I872',\n '../A/DICOM/I873',\n '../A/DICOM/I874',\n '../A/DICOM/I875',\n '../A/DICOM/I876',\n '../A/DICOM/I877',\n '../A/DICOM/I878',\n '../A/DICOM/I879',\n '../A/DICOM/I880']"
     },
     "execution_count": 10,
     "metadata": {},
     "output_type": "execute_result"
    }
   ],
   "source": [
    "cartesian_paths"
   ],
   "metadata": {
    "collapsed": false
   }
  },
  {
   "cell_type": "code",
   "execution_count": 18,
   "outputs": [],
   "source": [
    "cv2.destroyAllWindows()"
   ],
   "metadata": {
    "collapsed": false
   }
  },
  {
   "cell_type": "code",
   "execution_count": 5,
   "outputs": [
    {
     "name": "stdout",
     "output_type": "stream",
     "text": [
      "../A/DICOM/I500\n"
     ]
    },
    {
     "data": {
      "text/plain": "'radDynbFFE 5.2/2.6 FA25'"
     },
     "execution_count": 5,
     "metadata": {},
     "output_type": "execute_result"
    }
   ],
   "source": [
    "# print(paths[500])\n",
    "dcm = pydicom.dcmread(paths[2500])\n",
    "dcm.SeriesDescription"
   ],
   "metadata": {
    "collapsed": false
   }
  },
  {
   "cell_type": "code",
   "execution_count": 20,
   "outputs": [
    {
     "ename": "KeyboardInterrupt",
     "evalue": "",
     "output_type": "error",
     "traceback": [
      "\u001B[0;31m---------------------------------------------------------------------------\u001B[0m",
      "\u001B[0;31mKeyboardInterrupt\u001B[0m                         Traceback (most recent call last)",
      "Cell \u001B[0;32mIn[20], line 2\u001B[0m\n\u001B[1;32m      1\u001B[0m dicomdir \u001B[38;5;241m=\u001B[39m pydicom\u001B[38;5;241m.\u001B[39mdcmread(\u001B[38;5;124m\"\u001B[39m\u001B[38;5;124m../A/DICOMDIR\u001B[39m\u001B[38;5;124m\"\u001B[39m)\n\u001B[0;32m----> 2\u001B[0m \u001B[43mdicomdir\u001B[49m\n",
      "Cell \u001B[0;32mIn[20], line 2\u001B[0m\n\u001B[1;32m      1\u001B[0m dicomdir \u001B[38;5;241m=\u001B[39m pydicom\u001B[38;5;241m.\u001B[39mdcmread(\u001B[38;5;124m\"\u001B[39m\u001B[38;5;124m../A/DICOMDIR\u001B[39m\u001B[38;5;124m\"\u001B[39m)\n\u001B[0;32m----> 2\u001B[0m \u001B[43mdicomdir\u001B[49m\n",
      "File \u001B[0;32m_pydevd_bundle/pydevd_cython_darwin_310_64.pyx:1179\u001B[0m, in \u001B[0;36m_pydevd_bundle.pydevd_cython_darwin_310_64.SafeCallWrapper.__call__\u001B[0;34m()\u001B[0m\n",
      "File \u001B[0;32m_pydevd_bundle/pydevd_cython_darwin_310_64.pyx:620\u001B[0m, in \u001B[0;36m_pydevd_bundle.pydevd_cython_darwin_310_64.PyDBFrame.trace_dispatch\u001B[0;34m()\u001B[0m\n",
      "File \u001B[0;32m_pydevd_bundle/pydevd_cython_darwin_310_64.pyx:929\u001B[0m, in \u001B[0;36m_pydevd_bundle.pydevd_cython_darwin_310_64.PyDBFrame.trace_dispatch\u001B[0;34m()\u001B[0m\n",
      "File \u001B[0;32m_pydevd_bundle/pydevd_cython_darwin_310_64.pyx:920\u001B[0m, in \u001B[0;36m_pydevd_bundle.pydevd_cython_darwin_310_64.PyDBFrame.trace_dispatch\u001B[0;34m()\u001B[0m\n",
      "File \u001B[0;32m_pydevd_bundle/pydevd_cython_darwin_310_64.pyx:317\u001B[0m, in \u001B[0;36m_pydevd_bundle.pydevd_cython_darwin_310_64.PyDBFrame.do_wait_suspend\u001B[0;34m()\u001B[0m\n",
      "File \u001B[0;32m/Applications/PyCharm.app/Contents/plugins/python/helpers/pydev/pydevd.py:1160\u001B[0m, in \u001B[0;36mPyDB.do_wait_suspend\u001B[0;34m(self, thread, frame, event, arg, send_suspend_message, is_unhandled_exception)\u001B[0m\n\u001B[1;32m   1157\u001B[0m         from_this_thread\u001B[38;5;241m.\u001B[39mappend(frame_id)\n\u001B[1;32m   1159\u001B[0m \u001B[38;5;28;01mwith\u001B[39;00m \u001B[38;5;28mself\u001B[39m\u001B[38;5;241m.\u001B[39m_threads_suspended_single_notification\u001B[38;5;241m.\u001B[39mnotify_thread_suspended(thread_id, stop_reason):\n\u001B[0;32m-> 1160\u001B[0m     \u001B[38;5;28;43mself\u001B[39;49m\u001B[38;5;241;43m.\u001B[39;49m\u001B[43m_do_wait_suspend\u001B[49m\u001B[43m(\u001B[49m\u001B[43mthread\u001B[49m\u001B[43m,\u001B[49m\u001B[43m \u001B[49m\u001B[43mframe\u001B[49m\u001B[43m,\u001B[49m\u001B[43m \u001B[49m\u001B[43mevent\u001B[49m\u001B[43m,\u001B[49m\u001B[43m \u001B[49m\u001B[43marg\u001B[49m\u001B[43m,\u001B[49m\u001B[43m \u001B[49m\u001B[43msuspend_type\u001B[49m\u001B[43m,\u001B[49m\u001B[43m \u001B[49m\u001B[43mfrom_this_thread\u001B[49m\u001B[43m)\u001B[49m\n",
      "File \u001B[0;32m/Applications/PyCharm.app/Contents/plugins/python/helpers/pydev/pydevd.py:1175\u001B[0m, in \u001B[0;36mPyDB._do_wait_suspend\u001B[0;34m(self, thread, frame, event, arg, suspend_type, from_this_thread)\u001B[0m\n\u001B[1;32m   1172\u001B[0m             \u001B[38;5;28mself\u001B[39m\u001B[38;5;241m.\u001B[39m_call_mpl_hook()\n\u001B[1;32m   1174\u001B[0m         \u001B[38;5;28mself\u001B[39m\u001B[38;5;241m.\u001B[39mprocess_internal_commands()\n\u001B[0;32m-> 1175\u001B[0m         \u001B[43mtime\u001B[49m\u001B[38;5;241;43m.\u001B[39;49m\u001B[43msleep\u001B[49m\u001B[43m(\u001B[49m\u001B[38;5;241;43m0.01\u001B[39;49m\u001B[43m)\u001B[49m\n\u001B[1;32m   1177\u001B[0m \u001B[38;5;28mself\u001B[39m\u001B[38;5;241m.\u001B[39mcancel_async_evaluation(get_current_thread_id(thread), \u001B[38;5;28mstr\u001B[39m(\u001B[38;5;28mid\u001B[39m(frame)))\n\u001B[1;32m   1179\u001B[0m \u001B[38;5;66;03m# process any stepping instructions\u001B[39;00m\n",
      "\u001B[0;31mKeyboardInterrupt\u001B[0m: "
     ]
    }
   ],
   "source": [
    "dicomdir = pydicom.dcmread(\"../A/DICOMDIR\")\n",
    "dicomdir"
   ],
   "metadata": {
    "collapsed": false
   }
  },
  {
   "cell_type": "code",
   "execution_count": 13,
   "outputs": [],
   "source": [
    "with open(\"../A/US/Wave.opt\", \"r\") as f:\n",
    "    f.readline()\n",
    "    _ = f.readline()\n",
    "    dataset = []\n",
    "    for i, line in enumerate(f):\n",
    "        row = []\n",
    "        if i%2 !=0:\n",
    "            for y in line.replace(\"\\n\", \"\").split(\", \"):\n",
    "                row.append(float(y))\n",
    "            dataset.append(row)\n",
    "\n",
    "\n",
    "dataset = np.array(dataset)"
   ],
   "metadata": {
    "collapsed": false
   }
  },
  {
   "cell_type": "code",
   "execution_count": 14,
   "outputs": [
    {
     "data": {
      "text/plain": "(30075, 2668)"
     },
     "execution_count": 14,
     "metadata": {},
     "output_type": "execute_result"
    }
   ],
   "source": [
    "dataset.shape"
   ],
   "metadata": {
    "collapsed": false
   }
  },
  {
   "cell_type": "code",
   "execution_count": 14,
   "outputs": [
    {
     "data": {
      "text/plain": "datetime.datetime(2019, 7, 24, 11, 52, 30)"
     },
     "execution_count": 14,
     "metadata": {},
     "output_type": "execute_result"
    }
   ],
   "source": [
    "datetime.utcfromtimestamp(1563969150.0)"
   ],
   "metadata": {
    "collapsed": false
   }
  },
  {
   "cell_type": "code",
   "execution_count": 17,
   "outputs": [
    {
     "data": {
      "text/plain": "'01:01:01'"
     },
     "execution_count": 17,
     "metadata": {},
     "output_type": "execute_result"
    }
   ],
   "source": [
    "from datetime import time\n",
    "\n",
    "time(1, 1, 1).__str__()"
   ],
   "metadata": {
    "collapsed": false
   }
  },
  {
   "cell_type": "code",
   "execution_count": null,
   "outputs": [],
   "source": [],
   "metadata": {
    "collapsed": false
   }
  }
 ],
 "metadata": {
  "kernelspec": {
   "display_name": "Python 3",
   "language": "python",
   "name": "python3"
  },
  "language_info": {
   "codemirror_mode": {
    "name": "ipython",
    "version": 2
   },
   "file_extension": ".py",
   "mimetype": "text/x-python",
   "name": "python",
   "nbconvert_exporter": "python",
   "pygments_lexer": "ipython2",
   "version": "2.7.6"
  }
 },
 "nbformat": 4,
 "nbformat_minor": 0
}
