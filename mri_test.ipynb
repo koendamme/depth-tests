{
 "cells": [
  {
   "cell_type": "code",
   "execution_count": 42,
   "id": "initial_id",
   "metadata": {
    "collapsed": true,
    "ExecuteTime": {
     "end_time": "2024-03-22T15:19:30.751971Z",
     "start_time": "2024-03-22T15:19:30.745238Z"
    }
   },
   "outputs": [],
   "source": [
    "import matplotlib as mpl\n",
    "from matplotlib.widgets import RectangleSelector\n",
    "\n",
    "mpl.use('Qt5Agg')\n",
    "import matplotlib.pyplot as plt\n",
    "import glob\n",
    "import os\n",
    "import numpy as np\n",
    "import cv2\n",
    "import open3d\n",
    "from intrinsics import Intrinsics\n",
    "from scipy.ndimage import gaussian_filter1d\n",
    "from datetime import datetime\n",
    "from skimage.restoration import inpaint\n",
    "import time\n",
    "from tqdm.notebook import tqdm\n",
    "from utils import pcd_to_depth_map, pcd_to_volume\n",
    "import math\n",
    "import scipy\n",
    "from scipy.spatial.transform import Rotation"
   ]
  },
  {
   "cell_type": "code",
   "outputs": [],
   "source": [
    "def path_to_date(path):\n",
    "    date_str = path.split(\"_\")[-1].replace(\".png\", \"\")\n",
    "    date_float = float(date_str)\n",
    "    return datetime.fromtimestamp(date_float)"
   ],
   "metadata": {
    "collapsed": false,
    "ExecuteTime": {
     "end_time": "2024-03-22T15:19:31.645272Z",
     "start_time": "2024-03-22T15:19:31.641112Z"
    }
   },
   "id": "79b333498b8b0d32",
   "execution_count": 43
  },
  {
   "cell_type": "code",
   "outputs": [],
   "source": [
    "def apply_bounding_box(pcd, roi_points):\n",
    "    p1 = roi_points[np.argmin(roi_points[:, 0])]\n",
    "    p2 = roi_points[np.argmin(roi_points[:, 2])]\n",
    "    \n",
    "    # Test 1\n",
    "    # p1 = p1 + np.array([0, 0, -.23])\n",
    "    # p2 = p2 + np.array([.5, 1, -2])    \n",
    "    \n",
    "    # Test 2\n",
    "    # p1 = p1 + np.array([-.5, 0, -.4])\n",
    "    # p2 = p2 + np.array([.5, .2, -1])\n",
    "    \n",
    "    # Test 3\n",
    "    p1 = p1 + np.array([-.5, 0, -.28])\n",
    "    p2 = p2 + np.array([0, 1, -2])\n",
    "    \n",
    "    # Test 7\n",
    "    # p1 = p1 + np.array([-.5, 0, 0])\n",
    "    # p2 = p2 + np.array([0, 1, -5])    \n",
    "    \n",
    "    # Test 8 \n",
    "    # p1 = p1 + np.array([-.5, 0, 0])\n",
    "    # p2 = p2 + np.array([.5, 1, -5])\n",
    "    \n",
    "    points_to_filter = np.asarray(pcd.points)\n",
    "    \n",
    "    x_bound = (points_to_filter[:, 0] > p1[0]) & (points_to_filter[:, 0] < p2[0])\n",
    "    z_bound = (points_to_filter[:, 2] < p1[2]) & (points_to_filter[:, 2] > p2[2])\n",
    "    y_bound = (points_to_filter[:, 1] > p1[1]) & (points_to_filter[:, 1] < p2[1])\n",
    "    \n",
    "    return pcd.select_by_index(np.where(x_bound & z_bound & y_bound)[0])"
   ],
   "metadata": {
    "collapsed": false,
    "ExecuteTime": {
     "end_time": "2024-03-22T15:21:36.851213Z",
     "start_time": "2024-03-22T15:21:36.843146Z"
    }
   },
   "id": "72ac1412cd3b9ae4",
   "execution_count": 53
  },
  {
   "cell_type": "code",
   "outputs": [],
   "source": [
    "def get_inpaint_mask(roi, depth):    \n",
    "    temp_mask = np.zeros(depth.shape)\n",
    "    mask = np.zeros(depth.shape)\n",
    "    temp_mask[depth == 0] = 1\n",
    "    mask[roi[0][1]:roi[1][1], roi[0][0]:roi[1][0]] = temp_mask[roi[0][1]:roi[1][1], roi[0][0]:roi[1][0]]\n",
    "    return mask"
   ],
   "metadata": {
    "collapsed": false,
    "ExecuteTime": {
     "end_time": "2024-03-22T15:19:34.497356Z",
     "start_time": "2024-03-22T15:19:34.492113Z"
    }
   },
   "id": "7879b3c040fe62e1",
   "execution_count": 45
  },
  {
   "cell_type": "code",
   "outputs": [],
   "source": [
    "fps = 30\n",
    "test_name = \"test3_depth_deep\"\n",
    "scale = 0.00025\n",
    "paths = glob.glob(os.path.join(\"koen_mri_room\", test_name, \"*.png\"))\n",
    "paths.sort(key=lambda p: int(p.split(\"\\\\\")[-1].split(\"_\")[1]))\n",
    "\n",
    "depth = np.asanyarray(open3d.io.read_image(paths[0])) * scale\n",
    "depth = open3d.geometry.Image(depth.astype(np.float32))"
   ],
   "metadata": {
    "collapsed": false,
    "ExecuteTime": {
     "end_time": "2024-03-22T15:19:55.835737Z",
     "start_time": "2024-03-22T15:19:55.793484Z"
    }
   },
   "id": "eb94b1b064d15320",
   "execution_count": 46
  },
  {
   "cell_type": "code",
   "outputs": [],
   "source": [
    "plt.imshow(depth, cmap=\"gray\")\n",
    "plt.show()"
   ],
   "metadata": {
    "collapsed": false,
    "ExecuteTime": {
     "end_time": "2024-03-22T15:20:00.022182Z",
     "start_time": "2024-03-22T15:19:57.538062Z"
    }
   },
   "id": "4df42fe3391e020c",
   "execution_count": 47
  },
  {
   "cell_type": "code",
   "outputs": [],
   "source": [
    "# points = []\n",
    "# \n",
    "# def mouse_event(event):\n",
    "#     global points\n",
    "#     global rgb_copy\n",
    "# \n",
    "#     points.append([int(event.xdata), int(event.ydata)])\n",
    "# \n",
    "#     if len(points) == 3:\n",
    "#         plt.close()\n",
    "# \n",
    "# fig = plt.figure(figsize=(10, 10))\n",
    "# cid = fig.canvas.mpl_connect('button_press_event', mouse_event)\n",
    "# plt.imshow(depth)\n",
    "# plt.show()\n",
    "# \n",
    "# depth_copy = np.asarray(depth).copy()\n",
    "# for p in points:\n",
    "#     marked_image = cv2.circle(depth_copy, p, 3, (0, 255, 0), 2)\n",
    "# \n",
    "# fig = plt.figure(figsize=(10, 10))\n",
    "# plt.imshow(marked_image)\n",
    "# plt.show()"
   ],
   "metadata": {
    "collapsed": false,
    "ExecuteTime": {
     "end_time": "2024-03-22T12:56:38.150713Z",
     "start_time": "2024-03-22T12:56:38.144727Z"
    }
   },
   "id": "c5dca2d72304f238",
   "execution_count": 7
  },
  {
   "cell_type": "code",
   "outputs": [],
   "source": [
    "# fig, ax = plt.subplots()\n",
    "# ax.imshow(depth, cmap=\"gray\")\n",
    "# roi = None\n",
    "# \n",
    "# def line_select_callback(eclick, erelease):\n",
    "#     x1, y1 = eclick.xdata, eclick.ydata\n",
    "#     x2, y2 = erelease.xdata, erelease.ydata\n",
    "#     global roi\n",
    "#     roi = [[int(x1), int(y1)], [int(x2), int(y2)]]\n",
    "#     plt.close()\n",
    "# \n",
    "# rs = RectangleSelector(ax, line_select_callback,\n",
    "#                        useblit=False, button=[1],\n",
    "#                        minspanx=5, minspany=5, spancoords='pixels',\n",
    "#                        interactive=True)\n",
    "# \n",
    "# \n",
    "# plt.connect(\"key_press_event\", rs)\n",
    "# plt.show()"
   ],
   "metadata": {
    "collapsed": false,
    "ExecuteTime": {
     "end_time": "2024-03-22T12:57:34.434923Z",
     "start_time": "2024-03-22T12:57:24.656615Z"
    }
   },
   "id": "3c2ba79281c1fb99",
   "execution_count": 13
  },
  {
   "cell_type": "code",
   "outputs": [],
   "source": [
    "# Test 1\n",
    "# points = [[332, 745], [586, 733], [528, 520]]\n",
    "\n",
    "# Test 2\n",
    "# points = [[205, 462], [367, 459], [330, 331]]\n",
    "\n",
    "# Test 3\n",
    "points = [[201, 467], [370, 467], [324, 319]]\n",
    "\n",
    "# Test 7\n",
    "# points = [[208, 455], [365, 455], [304, 291]]\n",
    "\n",
    "# Test 8\n",
    "# points = [[332, 734], [565, 730], [494, 457]]"
   ],
   "metadata": {
    "collapsed": false,
    "ExecuteTime": {
     "end_time": "2024-03-22T15:20:11.289892Z",
     "start_time": "2024-03-22T15:20:11.285576Z"
    }
   },
   "id": "10914041613b7851",
   "execution_count": 48
  },
  {
   "cell_type": "code",
   "outputs": [],
   "source": [
    "npdepth = np.asarray(depth)\n",
    "point_mask = np.zeros(npdepth.shape)\n",
    "\n",
    "for p in points:\n",
    "    point_mask[p[1], p[0]] = npdepth[p[1], p[0]]\n",
    "\n",
    "markers_o3d = open3d.geometry.Image(point_mask.astype(np.float32))\n",
    "intr = Intrinsics(width=640, height=480)\n",
    "# intr = Intrinsics(width=1024, height=768)\n",
    "\n",
    "m_pcd = open3d.geometry.PointCloud.create_from_depth_image(markers_o3d, intrinsic=intr.get_intrinsics())\n",
    "m_pcd.transform([[1, 0, 0, 0], [0, -1, 0, 0], [0, 0, -1, 0], [0, 0, 0, 1]])\n",
    "m_pcd.paint_uniform_color([1.0, 0, 0])\n",
    "\n",
    "points3d = np.asarray(m_pcd.points).copy()\n",
    "\n",
    "u_1 = points3d[1] - points3d[2]\n",
    "u_2 = points3d[0] - points3d[2]\n",
    "\n",
    "n = np.cross(u_1, u_2)\n",
    "R = Rotation.align_vectors([0, 1, 0], -n)[0].as_matrix()"
   ],
   "metadata": {
    "collapsed": false,
    "ExecuteTime": {
     "end_time": "2024-03-22T15:25:10.128561Z",
     "start_time": "2024-03-22T15:25:10.115050Z"
    }
   },
   "id": "e0bddf3b6525a0bd",
   "execution_count": 62
  },
  {
   "cell_type": "code",
   "outputs": [],
   "source": [
    "# inpaint_mask = get_inpaint_mask(roi, npdepth)\n",
    "# npdepth = inpaint.inpaint_biharmonic(npdepth, inpaint_mask)\n",
    "\n",
    "ref_pcd = open3d.geometry.PointCloud.create_from_depth_image(depth=open3d.geometry.Image(npdepth.astype(np.float32)), intrinsic=intr.get_intrinsics())\n",
    "ref_pcd.transform([[1, 0, 0, 0], [0, -1, 0, 0], [0, 0, -1, 0], [0, 0, 0, 1]])\n",
    "ref_pcd.translate(-points3d[2])\n",
    "ref_pcd.rotate(R, center=(0, 0, 0))\n",
    "ref_pcd = apply_bounding_box(ref_pcd, np.asarray(m_pcd.points))\n",
    "cl, ind = ref_pcd.remove_statistical_outlier(nb_neighbors=20, std_ratio=2.0)\n",
    "ref_pcd = ref_pcd.select_by_index(ind)\n",
    "\n",
    "axes = open3d.geometry.TriangleMesh.create_coordinate_frame()\n",
    "open3d.visualization.draw_geometries([pcd, axes])"
   ],
   "metadata": {
    "collapsed": false,
    "ExecuteTime": {
     "end_time": "2024-03-22T15:25:45.985711Z",
     "start_time": "2024-03-22T15:25:42.820405Z"
    }
   },
   "id": "bd5ba5c84919be2d",
   "execution_count": 64
  },
  {
   "cell_type": "code",
   "outputs": [
    {
     "name": "stdout",
     "output_type": "stream",
     "text": [
      "[Open3D WARNING] The number of points is 0 when creating axis-aligned bounding box.\n"
     ]
    },
    {
     "data": {
      "text/plain": "  0%|          | 0/1182 [00:00<?, ?it/s]",
      "application/vnd.jupyter.widget-view+json": {
       "version_major": 2,
       "version_minor": 0,
       "model_id": "a96143900359423e9556def0421e56f5"
      }
     },
     "metadata": {},
     "output_type": "display_data"
    }
   ],
   "source": [
    "vis = open3d.visualization.Visualizer()\n",
    "vis.create_window()\n",
    "\n",
    "geometry = open3d.geometry.PointCloud()\n",
    "vis.add_geometry(geometry)\n",
    "vis.add_geometry(axes)\n",
    "\n",
    "fps=30\n",
    "img=None\n",
    "\n",
    "diff = []\n",
    "prev_time = path_to_date(paths[0])\n",
    "for i, path in tqdm(enumerate(paths[1100:]), total=len(paths[1100:])):\n",
    "    # Uncomment for real-time\n",
    "    curr_time = path_to_date(path)\n",
    "    time_diff = (curr_time - prev_time).microseconds\n",
    "    time.sleep(time_diff/1000000)\n",
    "    prev_time = curr_time\n",
    "    \n",
    "    depth = np.asanyarray(open3d.io.read_image(path)) * scale\n",
    "    # inpaint_mask = get_inpaint_mask(roi, depth)\n",
    "    # depth = inpaint.inpaint_biharmonic(depth, inpaint_mask)\n",
    "    depth = open3d.geometry.Image(depth.astype(np.float32))\n",
    "    \n",
    "    pcd = open3d.geometry.PointCloud.create_from_depth_image(depth=depth, intrinsic=intr.get_intrinsics())\n",
    "    pcd.transform([[1, 0, 0, 0], [0, -1, 0, 0], [0, 0, -1, 0], [0, 0, 0, 1]])\n",
    "    pcd.translate(-points3d[2])\n",
    "    pcd.rotate(R, center=(0, 0, 0))\n",
    "    \n",
    "    pcd = apply_bounding_box(pcd, np.asarray(m_pcd.points))\n",
    "    cl, ind = pcd.remove_statistical_outlier(nb_neighbors=20, std_ratio=2.0)\n",
    "    pcd = pcd.select_by_index(ind)\n",
    "    \n",
    "    dists = np.asarray(pcd.compute_point_cloud_distance(ref_pcd))\n",
    "    diff.append(np.mean(dists))\n",
    "\n",
    "    geometry.points = pcd.points\n",
    "        \n",
    "    if i == 0:\n",
    "        vis.add_geometry(geometry)\n",
    "\n",
    "    vis.update_geometry(geometry)\n",
    "    vis.poll_events()\n",
    "    vis.update_renderer()\n",
    "    \n",
    "vis.destroy_window()"
   ],
   "metadata": {
    "collapsed": false,
    "ExecuteTime": {
     "end_time": "2024-03-22T15:33:38.797672Z",
     "start_time": "2024-03-22T15:32:08.251604Z"
    }
   },
   "id": "41d8204bf098e0b9",
   "execution_count": 76
  },
  {
   "cell_type": "code",
   "outputs": [],
   "source": [
    "fig = plt.figure()\n",
    "plt.plot(diff, label='Volume')\n",
    "# plt.plot(gaussian_filter1d(np.array(diff), sigma=2))\n",
    "plt.xlabel(\"difference\")\n",
    "plt.xlabel(\"frame\")\n",
    "plt.legend()\n",
    "plt.show()"
   ],
   "metadata": {
    "collapsed": false,
    "ExecuteTime": {
     "end_time": "2024-03-22T15:31:30.255009Z",
     "start_time": "2024-03-22T15:31:27.479529Z"
    }
   },
   "id": "c3e8d58afbb1c472",
   "execution_count": 74
  },
  {
   "cell_type": "code",
   "outputs": [],
   "source": [],
   "metadata": {
    "collapsed": false,
    "ExecuteTime": {
     "end_time": "2024-03-22T10:48:05.776395Z",
     "start_time": "2024-03-22T10:48:05.754936Z"
    }
   },
   "id": "7f7408c14aa7b620",
   "execution_count": 28
  }
 ],
 "metadata": {
  "kernelspec": {
   "display_name": "Python 3",
   "language": "python",
   "name": "python3"
  },
  "language_info": {
   "codemirror_mode": {
    "name": "ipython",
    "version": 2
   },
   "file_extension": ".py",
   "mimetype": "text/x-python",
   "name": "python",
   "nbconvert_exporter": "python",
   "pygments_lexer": "ipython2",
   "version": "2.7.6"
  }
 },
 "nbformat": 4,
 "nbformat_minor": 5
}
