{
 "cells": [
  {
   "cell_type": "code",
   "execution_count": 1,
   "id": "initial_id",
   "metadata": {
    "collapsed": true,
    "ExecuteTime": {
     "end_time": "2024-03-13T15:17:28.519437Z",
     "start_time": "2024-03-13T15:17:26.741951Z"
    }
   },
   "outputs": [
    {
     "name": "stdout",
     "output_type": "stream",
     "text": [
      "Jupyter environment detected. Enabling Open3D WebVisualizer.\n",
      "[Open3D INFO] WebRTC GUI backend enabled.\n",
      "[Open3D INFO] WebRTCWindowSystem: HTTP handshake server disabled.\n"
     ]
    }
   ],
   "source": [
    "import matplotlib as mpl\n",
    "mpl.use('Qt5Agg')\n",
    "import matplotlib.pyplot as plt\n",
    "import glob\n",
    "import os\n",
    "import numpy as np\n",
    "import cv2\n",
    "import open3d\n",
    "from intrinsics import Intrinsics\n",
    "from utils import pcd_to_depth_map, pcd_to_volume\n",
    "import math\n",
    "import scipy\n",
    "from scipy.spatial.transform import Rotation"
   ]
  },
  {
   "cell_type": "code",
   "outputs": [],
   "source": [
    "fps = 30\n",
    "test_name = \"test1\"\n",
    "scale = 0.00025\n",
    "paths = glob.glob(os.path.join(\"techmed_test\", test_name, \"depth\", \"*.png\"))\n",
    "filename = paths[0].split(\"\\\\\")[-1]\n",
    "\n",
    "depth = np.asanyarray(open3d.io.read_image(os.path.join(\"techmed_test\", test_name, \"depth\", filename))) * scale\n",
    "depth = open3d.geometry.Image(depth.astype(np.float32))\n",
    "\n",
    "rgb = cv2.imread(os.path.join(\"techmed_test\", test_name, \"rgb\", filename))"
   ],
   "metadata": {
    "collapsed": false,
    "ExecuteTime": {
     "end_time": "2024-03-13T15:17:31.612828Z",
     "start_time": "2024-03-13T15:17:31.582434Z"
    }
   },
   "id": "98d4124c2c1f7104",
   "execution_count": 2
  },
  {
   "cell_type": "code",
   "outputs": [],
   "source": [
    "figs, axs = plt.subplots(1, 2, figsize=(10, 5))\n",
    "axs[0].imshow(cv2.cvtColor(rgb, cv2.COLOR_BGR2RGB))\n",
    "axs[0].axis('off')\n",
    "axs[1].imshow(depth, cmap=\"gray\")\n",
    "axs[1].axis('off')\n",
    "plt.show()"
   ],
   "metadata": {
    "collapsed": false,
    "ExecuteTime": {
     "end_time": "2024-03-13T15:17:37.064836Z",
     "start_time": "2024-03-13T15:17:32.892790Z"
    }
   },
   "id": "f5f5d3bf31402872",
   "execution_count": 3
  },
  {
   "cell_type": "code",
   "outputs": [],
   "source": [
    "points = []\n",
    "\n",
    "def mouse_event(event):\n",
    "    global points\n",
    "    global rgb_copy\n",
    "\n",
    "    points.append([int(event.xdata), int(event.ydata)])\n",
    "\n",
    "    if len(points) == 3:\n",
    "        plt.close()\n",
    "\n",
    "fig = plt.figure(figsize=(10, 10))\n",
    "cid = fig.canvas.mpl_connect('button_press_event', mouse_event)\n",
    "plt.imshow(cv2.cvtColor(rgb, cv2.COLOR_BGR2RGB))\n",
    "plt.show()\n",
    "\n",
    "rgb_copy = rgb.copy()\n",
    "for p in points:\n",
    "    marked_image = cv2.circle(rgb_copy, p, 3, (0, 255, 0), 2)\n",
    "\n",
    "fig = plt.figure(figsize=(10, 10))\n",
    "plt.imshow(cv2.cvtColor(rgb_copy, cv2.COLOR_BGR2RGB))\n",
    "plt.show()"
   ],
   "metadata": {
    "collapsed": false,
    "ExecuteTime": {
     "end_time": "2024-03-13T15:18:00.765816Z",
     "start_time": "2024-03-13T15:17:41.121662Z"
    }
   },
   "id": "3b3a0900677eb88d",
   "execution_count": 4
  },
  {
   "cell_type": "code",
   "outputs": [],
   "source": [
    "npdepth = np.asarray(depth)\n",
    "point_mask = np.zeros(npdepth.shape)\n",
    "\n",
    "for p in points:\n",
    "    point_mask[p[1], p[0]] = npdepth[p[1], p[0]]\n",
    "\n",
    "markers_o3d = open3d.geometry.Image(point_mask.astype(np.float32))\n",
    "\n",
    "m_pcd = open3d.geometry.PointCloud.create_from_depth_image(markers_o3d, intrinsic=intr.get_intrinsics())\n",
    "m_pcd.transform([[1, 0, 0, 0], [0, -1, 0, 0], [0, 0, -1, 0], [0, 0, 0, 1]])\n",
    "m_pcd.paint_uniform_color([1.0, 0, 0])\n",
    "\n",
    "points3d = np.asarray(m_pcd.points).copy()\n",
    "\n",
    "u_1 = points3d[1] - points3d[2]\n",
    "u_2 = points3d[0] - points3d[2]\n",
    "\n",
    "n = np.cross(u_1, u_2)\n",
    "R = Rotation.align_vectors([0, 1, 0], n)[0].as_matrix()"
   ],
   "metadata": {
    "collapsed": false,
    "ExecuteTime": {
     "end_time": "2024-03-13T15:29:58.044979Z",
     "start_time": "2024-03-13T15:29:58.033017Z"
    }
   },
   "id": "4728c1df9063c1da",
   "execution_count": 58
  },
  {
   "cell_type": "code",
   "outputs": [
    {
     "data": {
      "text/plain": "PointCloud with 3 points."
     },
     "execution_count": 63,
     "metadata": {},
     "output_type": "execute_result"
    }
   ],
   "source": [
    "m_pcd.translate(-points3d[2])\n",
    "m_pcd.rotate(R, center=(0, 0, 0))"
   ],
   "metadata": {
    "collapsed": false,
    "ExecuteTime": {
     "end_time": "2024-03-13T15:30:10.939598Z",
     "start_time": "2024-03-13T15:30:10.932371Z"
    }
   },
   "id": "c1abbbc489046237",
   "execution_count": 63
  },
  {
   "cell_type": "code",
   "outputs": [],
   "source": [
    "def apply_bounding_box(pcd, roi_points):\n",
    "    p1 = roi_points[np.argmin(roi_points[:, 0])]\n",
    "    p2 = roi_points[np.argmin(roi_points[:, 2])]\n",
    "    \n",
    "    p1 = p1 - np.array([0, 0, .3])\n",
    "    p2 = p2 - np.array([-.3, -1, .3])\n",
    "    \n",
    "    points_to_filter = np.asarray(pcd.points)\n",
    "    \n",
    "    x_bound = (points_to_filter[:, 0] > p1[0]) & (points_to_filter[:, 0] < p2[0])\n",
    "    z_bound = (points_to_filter[:, 2] < p1[2]) & (points_to_filter[:, 2] > p2[2])\n",
    "    y_bound = (points_to_filter[:, 1] > p1[1]) & (points_to_filter[:, 1] < p2[1])\n",
    "    \n",
    "    return pcd.select_by_index(np.where(x_bound & z_bound & y_bound)[0])\n",
    "\n",
    "pcd_filtered = apply_bounding_box(pcd_body, np.array(m_pcd.points))"
   ],
   "metadata": {
    "collapsed": false,
    "ExecuteTime": {
     "end_time": "2024-03-13T15:33:33.771612Z",
     "start_time": "2024-03-13T15:33:33.756152Z"
    }
   },
   "id": "6ade5855dfc8cf0f",
   "execution_count": 90
  },
  {
   "cell_type": "code",
   "outputs": [],
   "source": [
    "open3d.visualization.draw_geometries([pcd_filtered, axes])"
   ],
   "metadata": {
    "collapsed": false,
    "ExecuteTime": {
     "end_time": "2024-03-13T15:33:37.263124Z",
     "start_time": "2024-03-13T15:33:33.904216Z"
    }
   },
   "id": "bdceaad7d56e4fa9",
   "execution_count": 91
  },
  {
   "cell_type": "markdown",
   "source": [
    "<h3>Video</h3>"
   ],
   "metadata": {
    "collapsed": false
   },
   "id": "9a108157a2d2f95f"
  },
  {
   "cell_type": "code",
   "outputs": [],
   "source": [
    "ref_with_body = np.asanyarray(open3d.io.read_image(paths[400])) * scale\n",
    "ref_with_body = open3d.geometry.Image(ref_with_body.astype(np.float32))\n",
    "ref_with_body_pcd = open3d.geometry.PointCloud.create_from_depth_image(depth=ref_with_body, intrinsic=intr.get_intrinsics())\n",
    "ref_with_body_pcd.transform([[1, 0, 0, 0], [0, -1, 0, 0], [0, 0, -1, 0], [0, 0, 0, 1]])\n",
    "ref_with_body_pcd.translate(-points3d[2])\n",
    "ref_with_body_pcd.rotate(R, center=(0, 0, 0))\n",
    "\n",
    "ref_with_only_body_pcd = apply_bounding_box(ref_with_body_pcd, np.array(m_pcd.points))"
   ],
   "metadata": {
    "collapsed": false,
    "ExecuteTime": {
     "end_time": "2024-03-13T15:35:56.630730Z",
     "start_time": "2024-03-13T15:35:56.598990Z"
    }
   },
   "id": "ae27b6e737087ad1",
   "execution_count": 98
  },
  {
   "cell_type": "code",
   "outputs": [],
   "source": [
    "open3d.visualization.draw_geometries([ref_with_only_body_pcd])"
   ],
   "metadata": {
    "collapsed": false,
    "ExecuteTime": {
     "end_time": "2024-03-13T15:36:06.197973Z",
     "start_time": "2024-03-13T15:35:57.300644Z"
    }
   },
   "id": "ac85caaf8742f921",
   "execution_count": 99
  },
  {
   "cell_type": "code",
   "outputs": [
    {
     "data": {
      "text/plain": "0.2072722310043096"
     },
     "execution_count": 30,
     "metadata": {},
     "output_type": "execute_result"
    }
   ],
   "source": [
    "ref_volume"
   ],
   "metadata": {
    "collapsed": false,
    "ExecuteTime": {
     "end_time": "2024-03-13T12:45:48.908557Z",
     "start_time": "2024-03-13T12:45:48.901539Z"
    }
   },
   "id": "83ce8ffb04602fa0",
   "execution_count": 30
  },
  {
   "cell_type": "code",
   "outputs": [
    {
     "data": {
      "text/plain": "array([[ 7.42408029e-01,  0.00000000e+00, -2.02774866e+00],\n       [ 5.95512388e-01, -8.67361738e-19,  1.62712066e-03],\n       [ 0.00000000e+00,  0.00000000e+00,  0.00000000e+00]])"
     },
     "execution_count": 29,
     "metadata": {},
     "output_type": "execute_result"
    }
   ],
   "source": [
    "points3d"
   ],
   "metadata": {
    "collapsed": false,
    "ExecuteTime": {
     "end_time": "2024-03-13T15:23:53.221882Z",
     "start_time": "2024-03-13T15:23:53.216645Z"
    }
   },
   "id": "d3a330920c58fe8f",
   "execution_count": 29
  },
  {
   "cell_type": "code",
   "outputs": [
    {
     "name": "stdout",
     "output_type": "stream",
     "text": [
      "[Open3D WARNING] The number of points is 0 when creating axis-aligned bounding box.\n"
     ]
    },
    {
     "name": "stderr",
     "output_type": "stream",
     "text": [
      "C:\\Users\\kjwdamme\\Anaconda3\\envs\\realsense\\Lib\\site-packages\\numpy\\core\\fromnumeric.py:3504: RuntimeWarning: Mean of empty slice.\n",
      "  return _methods._mean(a, axis=axis, dtype=dtype,\n",
      "C:\\Users\\kjwdamme\\Anaconda3\\envs\\realsense\\Lib\\site-packages\\numpy\\core\\_methods.py:129: RuntimeWarning: invalid value encountered in scalar divide\n",
      "  ret = ret.dtype.type(ret / rcount)\n"
     ]
    }
   ],
   "source": [
    "vis = open3d.visualization.Visualizer()\n",
    "vis.create_window()\n",
    "\n",
    "geometry = open3d.geometry.PointCloud()\n",
    "vis.add_geometry(geometry)\n",
    "\n",
    "fps=30\n",
    "img=None\n",
    "\n",
    "diff = []\n",
    "for i, path in enumerate(paths[300:]):\n",
    "    depth = np.asanyarray(open3d.io.read_image(path)) * scale\n",
    "    depth = open3d.geometry.Image(depth.astype(np.float32))\n",
    "    \n",
    "    pcd = open3d.geometry.PointCloud.create_from_depth_image(depth=depth, intrinsic=intr.get_intrinsics())\n",
    "    pcd.transform([[1, 0, 0, 0], [0, -1, 0, 0], [0, 0, -1, 0], [0, 0, 0, 1]])\n",
    "    pcd.translate(-points3d[2])\n",
    "    pcd.rotate(R, center=(0, 0, 0))\n",
    "\n",
    "    pcd = apply_bounding_box(pcd, np.asarray(m_pcd.points))\n",
    "    \n",
    "    dists = pcd.compute_point_cloud_distance(ref_with_only_body_pcd)\n",
    "    m_dists = np.mean(np.asarray(dists))\n",
    "    diff.append(m_dists)\n",
    "\n",
    "    geometry.points = pcd.points\n",
    "        \n",
    "    if i == 0:\n",
    "        vis.add_geometry(geometry)\n",
    "\n",
    "    vis.update_geometry(geometry)\n",
    "    vis.poll_events()\n",
    "    vis.update_renderer()"
   ],
   "metadata": {
    "collapsed": false,
    "ExecuteTime": {
     "end_time": "2024-03-13T15:38:46.489188Z",
     "start_time": "2024-03-13T15:38:24.409933Z"
    }
   },
   "id": "641d7350abd162c5",
   "execution_count": 102
  },
  {
   "cell_type": "code",
   "outputs": [],
   "source": [
    "fig = plt.figure()\n",
    "y2 = gaussian_filter1d(np.array(diff[:350]), 3)\n",
    "plt.plot(np.array(diff[:350]), label='original data')\n",
    "plt.xlabel(\"difference\")\n",
    "plt.xlabel(\"frame\")\n",
    "plt.show()"
   ],
   "metadata": {
    "collapsed": false,
    "ExecuteTime": {
     "end_time": "2024-03-13T15:55:52.081896Z",
     "start_time": "2024-03-13T15:40:59.952986Z"
    }
   },
   "id": "e6feaaadf83050a7",
   "execution_count": 107
  },
  {
   "cell_type": "code",
   "outputs": [],
   "source": [],
   "metadata": {
    "collapsed": false
   },
   "id": "90942139d25fae85"
  }
 ],
 "metadata": {
  "kernelspec": {
   "display_name": "Python 3",
   "language": "python",
   "name": "python3"
  },
  "language_info": {
   "codemirror_mode": {
    "name": "ipython",
    "version": 2
   },
   "file_extension": ".py",
   "mimetype": "text/x-python",
   "name": "python",
   "nbconvert_exporter": "python",
   "pygments_lexer": "ipython2",
   "version": "2.7.6"
  }
 },
 "nbformat": 4,
 "nbformat_minor": 5
}
