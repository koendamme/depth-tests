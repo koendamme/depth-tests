{
 "cells": [
  {
   "cell_type": "code",
   "execution_count": 1,
   "id": "initial_id",
   "metadata": {
    "collapsed": true,
    "ExecuteTime": {
     "end_time": "2024-03-08T15:43:01.255386Z",
     "start_time": "2024-03-08T15:42:59.788076Z"
    }
   },
   "outputs": [
    {
     "name": "stdout",
     "output_type": "stream",
     "text": [
      "Jupyter environment detected. Enabling Open3D WebVisualizer.\n",
      "[Open3D INFO] WebRTC GUI backend enabled.\n",
      "[Open3D INFO] WebRTCWindowSystem: HTTP handshake server disabled.\n"
     ]
    }
   ],
   "source": [
    "import numpy as np\n",
    "import matplotlib as mpl\n",
    "mpl.use('Qt5Agg')\n",
    "import matplotlib.pyplot as plt\n",
    "import open3d\n",
    "from intrinsics import Intrinsics\n",
    "from matplotlib.widgets import RectangleSelector\n",
    "import glob\n",
    "import math\n",
    "from scipy.spatial import Delaunay\n",
    "from functools import reduce"
   ]
  },
  {
   "cell_type": "code",
   "outputs": [
    {
     "data": {
      "text/plain": "2786"
     },
     "execution_count": 2,
     "metadata": {},
     "output_type": "execute_result"
    }
   ],
   "source": [
    "len(glob.glob(\"depth/*.png\"))"
   ],
   "metadata": {
    "collapsed": false,
    "ExecuteTime": {
     "end_time": "2024-03-08T15:43:04.547457Z",
     "start_time": "2024-03-08T15:43:04.512254Z"
    }
   },
   "id": "6dfe8fdf291a91c6",
   "execution_count": 2
  },
  {
   "cell_type": "code",
   "outputs": [],
   "source": [
    "def scale(depth_image, range):\n",
    "    mask = (depth_image > range[0]) & (depth_image < range[1])\n",
    "    depth_in_range = np.zeros(depth_image.shape)\n",
    "    depth_in_range[mask] = depth_image[mask]\n",
    "\n",
    "    return (depth_in_range - range[0]) / (range[1] - range[0])"
   ],
   "metadata": {
    "collapsed": false,
    "ExecuteTime": {
     "end_time": "2024-03-08T15:43:25.668516Z",
     "start_time": "2024-03-08T15:43:25.663121Z"
    }
   },
   "id": "1d36f09ec0eca2c",
   "execution_count": 4
  },
  {
   "cell_type": "code",
   "outputs": [
    {
     "name": "stdout",
     "output_type": "stream",
     "text": [
      "[[159, 135], [451, 476]]\n"
     ]
    }
   ],
   "source": [
    "range=(0, 3)\n",
    "# depth_scale = 0.00025\n",
    "# img_path = glob.glob(\"depth/*.png\")[0]\n",
    "\n",
    "depth = open3d.io.read_image(\"volume_tests/test_img_for_volume.png\")\n",
    "fig, ax = plt.subplots()\n",
    "ax.imshow(depth, cmap=\"gray\")\n",
    "\n",
    "roi = None\n",
    "def line_select_callback(eclick, erelease):\n",
    "    x1, y1 = eclick.xdata, eclick.ydata\n",
    "    x2, y2 = erelease.xdata, erelease.ydata\n",
    "\n",
    "    global roi\n",
    "    roi = [[int(x1), int(y1)], [int(x2), int(y2)]]\n",
    "    plt.close()\n",
    "\n",
    "rs = RectangleSelector(ax, line_select_callback,\n",
    "                       useblit=False, button=[1], \n",
    "                       minspanx=5, minspany=5, spancoords='pixels', \n",
    "                       interactive=True)\n",
    "\n",
    "plt.connect('key_press_event', rs)\n",
    "plt.show()\n",
    "\n",
    "print(roi)"
   ],
   "metadata": {
    "collapsed": false,
    "ExecuteTime": {
     "end_time": "2024-03-08T15:43:32.768220Z",
     "start_time": "2024-03-08T15:43:26.061101Z"
    }
   },
   "id": "241d187ed001c468",
   "execution_count": 5
  },
  {
   "cell_type": "code",
   "outputs": [],
   "source": [
    "npdepth = np.asanyarray(depth)\n",
    "scaled = npdepth * 0.00025\n",
    "cropped = scaled[roi[0][1]:roi[1][1], roi[0][0]:roi[1][0]]\n",
    "o3d_cropped = open3d.geometry.Image(cropped.astype(np.float32))"
   ],
   "metadata": {
    "collapsed": false,
    "ExecuteTime": {
     "end_time": "2024-03-08T15:43:42.227935Z",
     "start_time": "2024-03-08T15:43:42.221349Z"
    }
   },
   "id": "39f6749deeec1cd3",
   "execution_count": 6
  },
  {
   "cell_type": "code",
   "outputs": [],
   "source": [
    "intr = Intrinsics(width=640, height=480)\n",
    "\n",
    "pcd = open3d.geometry.PointCloud.create_from_depth_image(o3d_cropped, intrinsic=intr.get_intrinsics())\n",
    "pcd.transform([[1, 0, 0, 0], [0, -1, 0, 0], [0, 0, -1, 0], [0, 0, 0, 1]])\n",
    "axes = open3d.geometry.TriangleMesh.create_coordinate_frame()\n",
    "open3d.visualization.draw_geometries([pcd, axes])"
   ],
   "metadata": {
    "collapsed": false,
    "ExecuteTime": {
     "end_time": "2024-03-08T15:47:01.455128Z",
     "start_time": "2024-03-08T15:43:44.738954Z"
    }
   },
   "id": "3e00c8183fa2bbfc",
   "execution_count": 7
  },
  {
   "cell_type": "code",
   "outputs": [],
   "source": [
    "plane_model, inliers = pcd.segment_plane(distance_threshold=0.02,\n",
    "                                         ransac_n=3,\n",
    "                                         num_iterations=10000)\n",
    "[a, b, c, d] = plane_model\n",
    "plane_pcd = pcd.select_by_index(inliers)\n",
    "plane_pcd.paint_uniform_color([1.0, 0, 0])\n",
    "box_pcd = pcd.select_by_index(inliers, invert=True)\n",
    "box_pcd.paint_uniform_color([0, 0, 1.0])\n",
    "open3d.visualization.draw_geometries([plane_pcd, box_pcd, axes])"
   ],
   "metadata": {
    "collapsed": false,
    "ExecuteTime": {
     "end_time": "2024-03-08T15:48:43.823763Z",
     "start_time": "2024-03-08T15:47:07.271130Z"
    }
   },
   "id": "ecf845955babe2fd",
   "execution_count": 8
  },
  {
   "cell_type": "code",
   "outputs": [
    {
     "data": {
      "text/plain": "array([-0.00231887,  0.69982064,  0.71431484,  0.60229289])"
     },
     "execution_count": 9,
     "metadata": {},
     "output_type": "execute_result"
    }
   ],
   "source": [
    "plane_model"
   ],
   "metadata": {
    "collapsed": false,
    "ExecuteTime": {
     "end_time": "2024-03-08T15:50:22.208170Z",
     "start_time": "2024-03-08T15:50:22.200858Z"
    }
   },
   "id": "2caacdcec736ee7c",
   "execution_count": 9
  },
  {
   "cell_type": "code",
   "outputs": [],
   "source": [
    "plane_pcd = plane_pcd.translate((0, d/b, 0))\n",
    "box_pcd = box_pcd.translate((0, d/b, 0))\n",
    "\n",
    "alpha = math.atan(a/b)\n",
    "beta = math.atan(c/a)\n",
    "gamma = -math.atan(c/b)\n",
    "# \n",
    "R_z = np.array([\n",
    "    [math.cos(alpha), -math.sin(alpha), 0],\n",
    "    [math.sin(alpha), math.cos(alpha), 0],\n",
    "    [0, 0, 1]\n",
    "])\n",
    "\n",
    "R_y = np.array([\n",
    "    [math.cos(beta), 0, math.sin(beta)],\n",
    "    [0, 1, 0],\n",
    "    [-math.sin(beta), 0, math.cos(beta)]\n",
    "])\n",
    "\n",
    "R_x = np.array([\n",
    "    [1, 0, 0],\n",
    "    [0, math.cos(gamma), -math.sin(gamma)],\n",
    "    [0, math.sin(gamma), math.cos(gamma)]\n",
    "])\n",
    "# \n",
    "R = R_z @ R_y @ R_x\n",
    "\n",
    "rotated_plane_pcd = plane_pcd.rotate(R, center=(0, 0, 0))\n",
    "rotated_box_pcd = box_pcd.rotate(R, center=(0, 0, 0))\n",
    "\n",
    "open3d.visualization.draw_geometries([rotated_plane_pcd, rotated_box_pcd, axes])"
   ],
   "metadata": {
    "collapsed": false,
    "ExecuteTime": {
     "end_time": "2024-03-08T15:51:31.748075Z",
     "start_time": "2024-03-08T15:50:27.274257Z"
    }
   },
   "id": "3181f6058a342b45",
   "execution_count": 10
  },
  {
   "cell_type": "code",
   "outputs": [],
   "source": [
    "cl, ind = rotated_box_pcd.remove_statistical_outlier(nb_neighbors=10,\n",
    "                                            std_ratio=2.0)\n",
    "rem_outlier_box_pcd = rotated_box_pcd.select_by_index(ind)\n",
    "open3d.visualization.draw_geometries([rem_outlier_box_pcd])"
   ],
   "metadata": {
    "collapsed": false,
    "ExecuteTime": {
     "end_time": "2024-03-08T15:51:55.989209Z",
     "start_time": "2024-03-08T15:51:44.511854Z"
    }
   },
   "id": "1631f30b58f5f097",
   "execution_count": 11
  },
  {
   "cell_type": "code",
   "outputs": [],
   "source": [
    "downpdc = rem_outlier_box_pcd.voxel_down_sample(voxel_size=0.05)\n",
    "xyz = np.asarray(downpdc.points)\n",
    "xz_catalog = []\n",
    "for point in xyz:\n",
    "    xz_catalog.append(np.array([point[0], point[2]]))\n",
    "    \n",
    "xy_catalog = np.array(xz_catalog)\n",
    "tri = Delaunay(xy_catalog)"
   ],
   "metadata": {
    "collapsed": false,
    "ExecuteTime": {
     "end_time": "2024-03-08T15:52:23.168134Z",
     "start_time": "2024-03-08T15:52:23.158727Z"
    }
   },
   "id": "317e6c7d477fb1e4",
   "execution_count": 14
  },
  {
   "cell_type": "code",
   "outputs": [],
   "source": [
    "open3d.visualization.draw_geometries([downpdc])"
   ],
   "metadata": {
    "collapsed": false,
    "ExecuteTime": {
     "end_time": "2024-03-08T15:55:43.500520Z",
     "start_time": "2024-03-08T15:55:42.144381Z"
    }
   },
   "id": "f7b716524c2c2ba6",
   "execution_count": 16
  },
  {
   "cell_type": "code",
   "outputs": [],
   "source": [
    "plt.triplot(xy_catalog[:,0], xy_catalog[:,1], tri.simplices)\n",
    "plt.plot(xy_catalog[:,0], xy_catalog[:,1], 'o')\n",
    "plt.show()"
   ],
   "metadata": {
    "collapsed": false,
    "ExecuteTime": {
     "end_time": "2024-03-08T15:55:57.450415Z",
     "start_time": "2024-03-08T15:55:47.071530Z"
    }
   },
   "id": "c13149187bed8775",
   "execution_count": 17
  },
  {
   "cell_type": "code",
   "outputs": [],
   "source": [
    "surface = open3d.geometry.TriangleMesh()\n",
    "surface.vertices = open3d.utility.Vector3dVector(xyz)\n",
    "surface.triangles = open3d.utility.Vector3iVector(np.flip(tri.simplices))\n",
    "open3d.visualization.draw_geometries([surface], mesh_show_wireframe=True)"
   ],
   "metadata": {
    "collapsed": false,
    "ExecuteTime": {
     "end_time": "2024-03-08T15:56:56.926903Z",
     "start_time": "2024-03-08T15:56:28.647368Z"
    }
   },
   "id": "6812c6835afc573b",
   "execution_count": 18
  },
  {
   "cell_type": "code",
   "outputs": [
    {
     "data": {
      "text/plain": "0.274489822256229"
     },
     "execution_count": 19,
     "metadata": {},
     "output_type": "execute_result"
    }
   ],
   "source": [
    "final_volume = 0\n",
    "\n",
    "for triangle in tri.simplices:\n",
    "    points = []\n",
    "    for i in triangle:\n",
    "        points.append(xyz[i])\n",
    "        \n",
    "    [p1, p2, p3] = points\n",
    "    x1, y1, z1 = p1\n",
    "    x2, y2, z2 = p2\n",
    "    x3, y3, z3 = p3\n",
    "    \n",
    "    base = .5*abs(x1*(z2-z3) + x2*(z3-z1) + x3*(y1 - y2))\n",
    "    base_volume = base * np.min([y1, y2, y3])\n",
    "    pyramid_volume = (1/3) * base * (np.max([y1, y2, y3]) - np.min([y1, y2, y3]))\n",
    "    total_vol_under_triangle = base_volume + pyramid_volume\n",
    "    final_volume += total_vol_under_triangle\n",
    "    \n",
    "final_volume\n",
    "    "
   ],
   "metadata": {
    "collapsed": false,
    "ExecuteTime": {
     "end_time": "2024-03-08T15:58:23.409868Z",
     "start_time": "2024-03-08T15:58:23.388415Z"
    }
   },
   "id": "bf2b21a88ef1ba67",
   "execution_count": 19
  },
  {
   "cell_type": "code",
   "outputs": [],
   "source": [],
   "metadata": {
    "collapsed": false,
    "ExecuteTime": {
     "end_time": "2024-03-06T16:46:17.978179Z",
     "start_time": "2024-03-06T16:46:17.974667Z"
    }
   },
   "id": "27ba986cbc367dc7",
   "execution_count": 15
  }
 ],
 "metadata": {
  "kernelspec": {
   "display_name": "Python 3",
   "language": "python",
   "name": "python3"
  },
  "language_info": {
   "codemirror_mode": {
    "name": "ipython",
    "version": 2
   },
   "file_extension": ".py",
   "mimetype": "text/x-python",
   "name": "python",
   "nbconvert_exporter": "python",
   "pygments_lexer": "ipython2",
   "version": "2.7.6"
  }
 },
 "nbformat": 4,
 "nbformat_minor": 5
}
