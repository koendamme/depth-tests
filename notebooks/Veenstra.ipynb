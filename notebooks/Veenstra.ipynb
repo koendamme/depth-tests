{
 "cells": [
  {
   "cell_type": "code",
   "execution_count": 12,
   "metadata": {
    "collapsed": true,
    "ExecuteTime": {
     "end_time": "2024-04-24T13:19:57.480806200Z",
     "start_time": "2024-04-24T13:19:57.451799700Z"
    }
   },
   "outputs": [],
   "source": [
    "import pydicom\n",
    "import glob\n",
    "import matplotlib.pyplot as plt\n",
    "import cv2\n",
    "import numpy as np\n",
    "import os\n",
    "from datetime import datetime"
   ]
  },
  {
   "cell_type": "code",
   "execution_count": 13,
   "outputs": [],
   "source": [
    "paths = glob.glob(os.path.join(\"..\", \"Veenstra\", \"A\", \"MRI\", \"I*\"))\n",
    "paths.sort(key=lambda x: int(x.split(os.sep + \"I\")[1]))\n",
    "\n",
    "cartesian_paths = []"
   ],
   "metadata": {
    "collapsed": false,
    "ExecuteTime": {
     "end_time": "2024-04-24T13:19:57.621007400Z",
     "start_time": "2024-04-24T13:19:57.594997500Z"
    }
   }
  },
  {
   "cell_type": "code",
   "execution_count": 21,
   "outputs": [
    {
     "ename": "KeyboardInterrupt",
     "evalue": "",
     "output_type": "error",
     "traceback": [
      "\u001B[1;31m---------------------------------------------------------------------------\u001B[0m",
      "\u001B[1;31mKeyboardInterrupt\u001B[0m                         Traceback (most recent call last)",
      "Cell \u001B[1;32mIn[21], line 4\u001B[0m\n\u001B[0;32m      1\u001B[0m times \u001B[38;5;241m=\u001B[39m []\n\u001B[0;32m      3\u001B[0m \u001B[38;5;28;01mfor\u001B[39;00m i, path \u001B[38;5;129;01min\u001B[39;00m \u001B[38;5;28menumerate\u001B[39m(paths):\n\u001B[1;32m----> 4\u001B[0m     dcm \u001B[38;5;241m=\u001B[39m \u001B[43mpydicom\u001B[49m\u001B[38;5;241;43m.\u001B[39;49m\u001B[43mdcmread\u001B[49m\u001B[43m(\u001B[49m\u001B[43mpath\u001B[49m\u001B[43m)\u001B[49m\n\u001B[0;32m      5\u001B[0m     \u001B[38;5;28;01mtry\u001B[39;00m:\n\u001B[0;32m      6\u001B[0m         img \u001B[38;5;241m=\u001B[39m dcm\u001B[38;5;241m.\u001B[39mpixel_array\n",
      "File \u001B[1;32m~\\anaconda3\\envs\\depth\\lib\\site-packages\\pydicom\\filereader.py:1030\u001B[0m, in \u001B[0;36mdcmread\u001B[1;34m(fp, defer_size, stop_before_pixels, force, specific_tags)\u001B[0m\n\u001B[0;32m   1028\u001B[0m     stop_when \u001B[38;5;241m=\u001B[39m _at_pixel_data\n\u001B[0;32m   1029\u001B[0m \u001B[38;5;28;01mtry\u001B[39;00m:\n\u001B[1;32m-> 1030\u001B[0m     dataset \u001B[38;5;241m=\u001B[39m \u001B[43mread_partial\u001B[49m\u001B[43m(\u001B[49m\n\u001B[0;32m   1031\u001B[0m \u001B[43m        \u001B[49m\u001B[43mfp\u001B[49m\u001B[43m,\u001B[49m\n\u001B[0;32m   1032\u001B[0m \u001B[43m        \u001B[49m\u001B[43mstop_when\u001B[49m\u001B[43m,\u001B[49m\n\u001B[0;32m   1033\u001B[0m \u001B[43m        \u001B[49m\u001B[43mdefer_size\u001B[49m\u001B[38;5;241;43m=\u001B[39;49m\u001B[43msize_in_bytes\u001B[49m\u001B[43m(\u001B[49m\u001B[43mdefer_size\u001B[49m\u001B[43m)\u001B[49m\u001B[43m,\u001B[49m\n\u001B[0;32m   1034\u001B[0m \u001B[43m        \u001B[49m\u001B[43mforce\u001B[49m\u001B[38;5;241;43m=\u001B[39;49m\u001B[43mforce\u001B[49m\u001B[43m,\u001B[49m\n\u001B[0;32m   1035\u001B[0m \u001B[43m        \u001B[49m\u001B[43mspecific_tags\u001B[49m\u001B[38;5;241;43m=\u001B[39;49m\u001B[43mspecific_tags\u001B[49m\u001B[43m,\u001B[49m\n\u001B[0;32m   1036\u001B[0m \u001B[43m    \u001B[49m\u001B[43m)\u001B[49m\n\u001B[0;32m   1037\u001B[0m \u001B[38;5;28;01mfinally\u001B[39;00m:\n\u001B[0;32m   1038\u001B[0m     \u001B[38;5;28;01mif\u001B[39;00m \u001B[38;5;129;01mnot\u001B[39;00m caller_owns_file:\n",
      "File \u001B[1;32m~\\anaconda3\\envs\\depth\\lib\\site-packages\\pydicom\\filereader.py:852\u001B[0m, in \u001B[0;36mread_partial\u001B[1;34m(fileobj, stop_when, defer_size, force, specific_tags)\u001B[0m\n\u001B[0;32m    848\u001B[0m \u001B[38;5;66;03m# Try and decode the dataset\u001B[39;00m\n\u001B[0;32m    849\u001B[0m \u001B[38;5;66;03m#   By this point we should be at the start of the dataset and have\u001B[39;00m\n\u001B[0;32m    850\u001B[0m \u001B[38;5;66;03m#   the transfer syntax (whether read from the file meta or guessed at)\u001B[39;00m\n\u001B[0;32m    851\u001B[0m \u001B[38;5;28;01mtry\u001B[39;00m:\n\u001B[1;32m--> 852\u001B[0m     dataset \u001B[38;5;241m=\u001B[39m \u001B[43mread_dataset\u001B[49m\u001B[43m(\u001B[49m\n\u001B[0;32m    853\u001B[0m \u001B[43m        \u001B[49m\u001B[43mfileobj\u001B[49m\u001B[43m,\u001B[49m\n\u001B[0;32m    854\u001B[0m \u001B[43m        \u001B[49m\u001B[43mis_implicit_VR\u001B[49m\u001B[43m,\u001B[49m\n\u001B[0;32m    855\u001B[0m \u001B[43m        \u001B[49m\u001B[43mis_little_endian\u001B[49m\u001B[43m,\u001B[49m\n\u001B[0;32m    856\u001B[0m \u001B[43m        \u001B[49m\u001B[43mstop_when\u001B[49m\u001B[38;5;241;43m=\u001B[39;49m\u001B[43mstop_when\u001B[49m\u001B[43m,\u001B[49m\n\u001B[0;32m    857\u001B[0m \u001B[43m        \u001B[49m\u001B[43mdefer_size\u001B[49m\u001B[38;5;241;43m=\u001B[39;49m\u001B[43mdefer_size\u001B[49m\u001B[43m,\u001B[49m\n\u001B[0;32m    858\u001B[0m \u001B[43m        \u001B[49m\u001B[43mspecific_tags\u001B[49m\u001B[38;5;241;43m=\u001B[39;49m\u001B[43mspecific_tags\u001B[49m\u001B[43m,\u001B[49m\n\u001B[0;32m    859\u001B[0m \u001B[43m    \u001B[49m\u001B[43m)\u001B[49m\n\u001B[0;32m    860\u001B[0m \u001B[38;5;28;01mexcept\u001B[39;00m \u001B[38;5;167;01mEOFError\u001B[39;00m:\n\u001B[0;32m    861\u001B[0m     \u001B[38;5;28;01mif\u001B[39;00m config\u001B[38;5;241m.\u001B[39msettings\u001B[38;5;241m.\u001B[39mreading_validation_mode \u001B[38;5;241m==\u001B[39m config\u001B[38;5;241m.\u001B[39mRAISE:\n",
      "File \u001B[1;32m~\\anaconda3\\envs\\depth\\lib\\site-packages\\pydicom\\filereader.py:427\u001B[0m, in \u001B[0;36mread_dataset\u001B[1;34m(fp, is_implicit_VR, is_little_endian, bytelength, stop_when, defer_size, parent_encoding, specific_tags, at_top_level)\u001B[0m\n\u001B[0;32m    425\u001B[0m \u001B[38;5;28;01mtry\u001B[39;00m:\n\u001B[0;32m    426\u001B[0m     \u001B[38;5;28;01mwhile\u001B[39;00m (bytelength \u001B[38;5;129;01mis\u001B[39;00m \u001B[38;5;28;01mNone\u001B[39;00m) \u001B[38;5;129;01mor\u001B[39;00m (fp\u001B[38;5;241m.\u001B[39mtell() \u001B[38;5;241m-\u001B[39m fp_start \u001B[38;5;241m<\u001B[39m bytelength):\n\u001B[1;32m--> 427\u001B[0m         raw_data_element \u001B[38;5;241m=\u001B[39m \u001B[38;5;28;43mnext\u001B[39;49m\u001B[43m(\u001B[49m\u001B[43mde_gen\u001B[49m\u001B[43m)\u001B[49m\n\u001B[0;32m    428\u001B[0m         \u001B[38;5;66;03m# Read data elements. Stop on some errors, but return what was read\u001B[39;00m\n\u001B[0;32m    429\u001B[0m         tag \u001B[38;5;241m=\u001B[39m raw_data_element\u001B[38;5;241m.\u001B[39mtag\n",
      "File \u001B[1;32m~\\anaconda3\\envs\\depth\\lib\\site-packages\\pydicom\\filereader.py:264\u001B[0m, in \u001B[0;36mdata_element_generator\u001B[1;34m(fp, is_implicit_VR, is_little_endian, stop_when, defer_size, encoding, specific_tags)\u001B[0m\n\u001B[0;32m    258\u001B[0m \u001B[38;5;28;01mif\u001B[39;00m debugging:\n\u001B[0;32m    259\u001B[0m     logger_debug(\n\u001B[0;32m    260\u001B[0m         \u001B[38;5;124mf\u001B[39m\u001B[38;5;124m\"\u001B[39m\u001B[38;5;132;01m{\u001B[39;00mfp_tell()\u001B[38;5;132;01m:\u001B[39;00m\u001B[38;5;124m08X\u001B[39m\u001B[38;5;132;01m}\u001B[39;00m\u001B[38;5;124m: Reading/parsing undefined length \u001B[39m\u001B[38;5;124m\"\u001B[39m\n\u001B[0;32m    261\u001B[0m         \u001B[38;5;124m\"\u001B[39m\u001B[38;5;124msequence\u001B[39m\u001B[38;5;124m\"\u001B[39m\n\u001B[0;32m    262\u001B[0m     )\n\u001B[1;32m--> 264\u001B[0m seq \u001B[38;5;241m=\u001B[39m \u001B[43mread_sequence\u001B[49m\u001B[43m(\u001B[49m\u001B[43mfp\u001B[49m\u001B[43m,\u001B[49m\u001B[43m \u001B[49m\u001B[43mis_implicit_VR\u001B[49m\u001B[43m,\u001B[49m\n\u001B[0;32m    265\u001B[0m \u001B[43m                    \u001B[49m\u001B[43mis_little_endian\u001B[49m\u001B[43m,\u001B[49m\u001B[43m \u001B[49m\u001B[43mlength\u001B[49m\u001B[43m,\u001B[49m\u001B[43m \u001B[49m\u001B[43mencoding\u001B[49m\u001B[43m)\u001B[49m\n\u001B[0;32m    266\u001B[0m \u001B[38;5;28;01mif\u001B[39;00m has_tag_set \u001B[38;5;129;01mand\u001B[39;00m tag \u001B[38;5;129;01mnot\u001B[39;00m \u001B[38;5;129;01min\u001B[39;00m tag_set:\n\u001B[0;32m    267\u001B[0m     \u001B[38;5;28;01mcontinue\u001B[39;00m\n",
      "File \u001B[1;32m~\\anaconda3\\envs\\depth\\lib\\site-packages\\pydicom\\filereader.py:483\u001B[0m, in \u001B[0;36mread_sequence\u001B[1;34m(fp, is_implicit_VR, is_little_endian, bytelength, encoding, offset)\u001B[0m\n\u001B[0;32m    481\u001B[0m \u001B[38;5;28;01mwhile\u001B[39;00m (\u001B[38;5;129;01mnot\u001B[39;00m bytelength) \u001B[38;5;129;01mor\u001B[39;00m (fp_tell() \u001B[38;5;241m-\u001B[39m fpStart \u001B[38;5;241m<\u001B[39m bytelength):\n\u001B[0;32m    482\u001B[0m     file_tell \u001B[38;5;241m=\u001B[39m fp\u001B[38;5;241m.\u001B[39mtell()\n\u001B[1;32m--> 483\u001B[0m     dataset \u001B[38;5;241m=\u001B[39m \u001B[43mread_sequence_item\u001B[49m\u001B[43m(\u001B[49m\n\u001B[0;32m    484\u001B[0m \u001B[43m        \u001B[49m\u001B[43mfp\u001B[49m\u001B[43m,\u001B[49m\u001B[43m \u001B[49m\u001B[43mis_implicit_VR\u001B[49m\u001B[43m,\u001B[49m\u001B[43m \u001B[49m\u001B[43mis_little_endian\u001B[49m\u001B[43m,\u001B[49m\u001B[43m \u001B[49m\u001B[43mencoding\u001B[49m\u001B[43m,\u001B[49m\u001B[43m \u001B[49m\u001B[43moffset\u001B[49m\n\u001B[0;32m    485\u001B[0m \u001B[43m    \u001B[49m\u001B[43m)\u001B[49m\n\u001B[0;32m    486\u001B[0m     \u001B[38;5;28;01mif\u001B[39;00m dataset \u001B[38;5;129;01mis\u001B[39;00m \u001B[38;5;28;01mNone\u001B[39;00m:  \u001B[38;5;66;03m# None is returned if hit Sequence Delimiter\u001B[39;00m\n\u001B[0;32m    487\u001B[0m         \u001B[38;5;28;01mbreak\u001B[39;00m\n",
      "File \u001B[1;32m~\\anaconda3\\envs\\depth\\lib\\site-packages\\pydicom\\filereader.py:544\u001B[0m, in \u001B[0;36mread_sequence_item\u001B[1;34m(fp, is_implicit_VR, is_little_endian, encoding, offset)\u001B[0m\n\u001B[0;32m    538\u001B[0m     logger\u001B[38;5;241m.\u001B[39mdebug(\n\u001B[0;32m    539\u001B[0m         \u001B[38;5;124mf\u001B[39m\u001B[38;5;124m\"\u001B[39m\u001B[38;5;132;01m{\u001B[39;00mfp\u001B[38;5;241m.\u001B[39mtell()\u001B[38;5;250m \u001B[39m\u001B[38;5;241m-\u001B[39m\u001B[38;5;250m \u001B[39m\u001B[38;5;241m4\u001B[39m\u001B[38;5;250m \u001B[39m\u001B[38;5;241m+\u001B[39m\u001B[38;5;250m \u001B[39moffset\u001B[38;5;132;01m:\u001B[39;00m\u001B[38;5;124m08x\u001B[39m\u001B[38;5;132;01m}\u001B[39;00m\u001B[38;5;124m: \u001B[39m\u001B[38;5;132;01m{\u001B[39;00mbytes2hex(bytes_read)\u001B[38;5;132;01m}\u001B[39;00m\u001B[38;5;124m  \u001B[39m\u001B[38;5;124m\"\u001B[39m\n\u001B[0;32m    540\u001B[0m         \u001B[38;5;124m\"\u001B[39m\u001B[38;5;124mFound Item tag (start of item)\u001B[39m\u001B[38;5;124m\"\u001B[39m\n\u001B[0;32m    541\u001B[0m     )\n\u001B[0;32m    543\u001B[0m \u001B[38;5;28;01mif\u001B[39;00m length \u001B[38;5;241m==\u001B[39m \u001B[38;5;241m0xFFFFFFFF\u001B[39m:\n\u001B[1;32m--> 544\u001B[0m     ds \u001B[38;5;241m=\u001B[39m \u001B[43mread_dataset\u001B[49m\u001B[43m(\u001B[49m\u001B[43mfp\u001B[49m\u001B[43m,\u001B[49m\u001B[43m \u001B[49m\u001B[43mis_implicit_VR\u001B[49m\u001B[43m,\u001B[49m\u001B[43m \u001B[49m\u001B[43mis_little_endian\u001B[49m\u001B[43m,\u001B[49m\n\u001B[0;32m    545\u001B[0m \u001B[43m                      \u001B[49m\u001B[43mbytelength\u001B[49m\u001B[38;5;241;43m=\u001B[39;49m\u001B[38;5;28;43;01mNone\u001B[39;49;00m\u001B[43m,\u001B[49m\u001B[43m \u001B[49m\u001B[43mparent_encoding\u001B[49m\u001B[38;5;241;43m=\u001B[39;49m\u001B[43mencoding\u001B[49m\u001B[43m,\u001B[49m\n\u001B[0;32m    546\u001B[0m \u001B[43m                      \u001B[49m\u001B[43mat_top_level\u001B[49m\u001B[38;5;241;43m=\u001B[39;49m\u001B[38;5;28;43;01mFalse\u001B[39;49;00m\u001B[43m)\u001B[49m\n\u001B[0;32m    547\u001B[0m     ds\u001B[38;5;241m.\u001B[39mis_undefined_length_sequence_item \u001B[38;5;241m=\u001B[39m \u001B[38;5;28;01mTrue\u001B[39;00m\n\u001B[0;32m    548\u001B[0m \u001B[38;5;28;01melse\u001B[39;00m:\n",
      "File \u001B[1;32m~\\anaconda3\\envs\\depth\\lib\\site-packages\\pydicom\\filereader.py:427\u001B[0m, in \u001B[0;36mread_dataset\u001B[1;34m(fp, is_implicit_VR, is_little_endian, bytelength, stop_when, defer_size, parent_encoding, specific_tags, at_top_level)\u001B[0m\n\u001B[0;32m    425\u001B[0m \u001B[38;5;28;01mtry\u001B[39;00m:\n\u001B[0;32m    426\u001B[0m     \u001B[38;5;28;01mwhile\u001B[39;00m (bytelength \u001B[38;5;129;01mis\u001B[39;00m \u001B[38;5;28;01mNone\u001B[39;00m) \u001B[38;5;129;01mor\u001B[39;00m (fp\u001B[38;5;241m.\u001B[39mtell() \u001B[38;5;241m-\u001B[39m fp_start \u001B[38;5;241m<\u001B[39m bytelength):\n\u001B[1;32m--> 427\u001B[0m         raw_data_element \u001B[38;5;241m=\u001B[39m \u001B[38;5;28;43mnext\u001B[39;49m\u001B[43m(\u001B[49m\u001B[43mde_gen\u001B[49m\u001B[43m)\u001B[49m\n\u001B[0;32m    428\u001B[0m         \u001B[38;5;66;03m# Read data elements. Stop on some errors, but return what was read\u001B[39;00m\n\u001B[0;32m    429\u001B[0m         tag \u001B[38;5;241m=\u001B[39m raw_data_element\u001B[38;5;241m.\u001B[39mtag\n",
      "File \u001B[1;32m~\\anaconda3\\envs\\depth\\lib\\site-packages\\pydicom\\filereader.py:174\u001B[0m, in \u001B[0;36mdata_element_generator\u001B[1;34m(fp, is_implicit_VR, is_little_endian, stop_when, defer_size, encoding, specific_tags)\u001B[0m\n\u001B[0;32m    171\u001B[0m     logger_debug(debug_msg)\n\u001B[0;32m    173\u001B[0m \u001B[38;5;66;03m# Positioned to read the value, but may not want to -- check stop_when\u001B[39;00m\n\u001B[1;32m--> 174\u001B[0m value_tell \u001B[38;5;241m=\u001B[39m \u001B[43mfp_tell\u001B[49m\u001B[43m(\u001B[49m\u001B[43m)\u001B[49m\n\u001B[0;32m    175\u001B[0m tag \u001B[38;5;241m=\u001B[39m TupleTag((group, elem))\n\u001B[0;32m    176\u001B[0m \u001B[38;5;28;01mif\u001B[39;00m stop_when \u001B[38;5;129;01mis\u001B[39;00m \u001B[38;5;129;01mnot\u001B[39;00m \u001B[38;5;28;01mNone\u001B[39;00m:\n\u001B[0;32m    177\u001B[0m     \u001B[38;5;66;03m# XXX VR may be None here!! Should stop_when just take tag?\u001B[39;00m\n",
      "\u001B[1;31mKeyboardInterrupt\u001B[0m: "
     ]
    }
   ],
   "source": [
    "times = []\n",
    "\n",
    "for i, path in enumerate(paths):\n",
    "    dcm = pydicom.dcmread(path)\n",
    "    try:\n",
    "        img = dcm.pixel_array\n",
    "        if dcm.SeriesDescription.startswith(\"DynbFFE\") and 'M_FFE' in dcm.ImageType:\n",
    "            times.append(dcm.InstanceCreationTime)  \n",
    "            cartesian_paths.append(path)\n",
    "    except:\n",
    "        pass"
   ],
   "metadata": {
    "collapsed": false,
    "ExecuteTime": {
     "end_time": "2024-04-24T13:33:27.875275500Z",
     "start_time": "2024-04-24T13:29:10.994214100Z"
    }
   }
  },
  {
   "cell_type": "code",
   "execution_count": 22,
   "outputs": [
    {
     "name": "stderr",
     "output_type": "stream",
     "text": [
      "\n",
      "KeyboardInterrupt\n",
      "\n"
     ]
    }
   ],
   "source": [
    "dicomdir = pydicom.dcmread(\"..\\Veenstra\\A\\DICOMDIR\")\n",
    "print()"
   ],
   "metadata": {
    "collapsed": false,
    "ExecuteTime": {
     "end_time": "2024-04-24T13:35:37.557463300Z",
     "start_time": "2024-04-24T13:34:21.847436400Z"
    }
   }
  },
  {
   "cell_type": "code",
   "execution_count": 18,
   "outputs": [],
   "source": [
    "cv2.destroyAllWindows()"
   ],
   "metadata": {
    "collapsed": false
   }
  },
  {
   "cell_type": "code",
   "execution_count": 5,
   "outputs": [
    {
     "name": "stdout",
     "output_type": "stream",
     "text": [
      "../A/DICOM/I500\n"
     ]
    },
    {
     "data": {
      "text/plain": "'radDynbFFE 5.2/2.6 FA25'"
     },
     "execution_count": 5,
     "metadata": {},
     "output_type": "execute_result"
    }
   ],
   "source": [
    "# print(paths[500])\n",
    "dcm = pydicom.dcmread(paths[2500])\n",
    "dcm.SeriesDescription"
   ],
   "metadata": {
    "collapsed": false
   }
  },
  {
   "cell_type": "code",
   "execution_count": 20,
   "outputs": [
    {
     "ename": "KeyboardInterrupt",
     "evalue": "",
     "output_type": "error",
     "traceback": [
      "\u001B[0;31m---------------------------------------------------------------------------\u001B[0m",
      "\u001B[0;31mKeyboardInterrupt\u001B[0m                         Traceback (most recent call last)",
      "Cell \u001B[0;32mIn[20], line 2\u001B[0m\n\u001B[1;32m      1\u001B[0m dicomdir \u001B[38;5;241m=\u001B[39m pydicom\u001B[38;5;241m.\u001B[39mdcmread(\u001B[38;5;124m\"\u001B[39m\u001B[38;5;124m../A/DICOMDIR\u001B[39m\u001B[38;5;124m\"\u001B[39m)\n\u001B[0;32m----> 2\u001B[0m \u001B[43mdicomdir\u001B[49m\n",
      "Cell \u001B[0;32mIn[20], line 2\u001B[0m\n\u001B[1;32m      1\u001B[0m dicomdir \u001B[38;5;241m=\u001B[39m pydicom\u001B[38;5;241m.\u001B[39mdcmread(\u001B[38;5;124m\"\u001B[39m\u001B[38;5;124m../A/DICOMDIR\u001B[39m\u001B[38;5;124m\"\u001B[39m)\n\u001B[0;32m----> 2\u001B[0m \u001B[43mdicomdir\u001B[49m\n",
      "File \u001B[0;32m_pydevd_bundle/pydevd_cython_darwin_310_64.pyx:1179\u001B[0m, in \u001B[0;36m_pydevd_bundle.pydevd_cython_darwin_310_64.SafeCallWrapper.__call__\u001B[0;34m()\u001B[0m\n",
      "File \u001B[0;32m_pydevd_bundle/pydevd_cython_darwin_310_64.pyx:620\u001B[0m, in \u001B[0;36m_pydevd_bundle.pydevd_cython_darwin_310_64.PyDBFrame.trace_dispatch\u001B[0;34m()\u001B[0m\n",
      "File \u001B[0;32m_pydevd_bundle/pydevd_cython_darwin_310_64.pyx:929\u001B[0m, in \u001B[0;36m_pydevd_bundle.pydevd_cython_darwin_310_64.PyDBFrame.trace_dispatch\u001B[0;34m()\u001B[0m\n",
      "File \u001B[0;32m_pydevd_bundle/pydevd_cython_darwin_310_64.pyx:920\u001B[0m, in \u001B[0;36m_pydevd_bundle.pydevd_cython_darwin_310_64.PyDBFrame.trace_dispatch\u001B[0;34m()\u001B[0m\n",
      "File \u001B[0;32m_pydevd_bundle/pydevd_cython_darwin_310_64.pyx:317\u001B[0m, in \u001B[0;36m_pydevd_bundle.pydevd_cython_darwin_310_64.PyDBFrame.do_wait_suspend\u001B[0;34m()\u001B[0m\n",
      "File \u001B[0;32m/Applications/PyCharm.app/Contents/plugins/python/helpers/pydev/pydevd.py:1160\u001B[0m, in \u001B[0;36mPyDB.do_wait_suspend\u001B[0;34m(self, thread, frame, event, arg, send_suspend_message, is_unhandled_exception)\u001B[0m\n\u001B[1;32m   1157\u001B[0m         from_this_thread\u001B[38;5;241m.\u001B[39mappend(frame_id)\n\u001B[1;32m   1159\u001B[0m \u001B[38;5;28;01mwith\u001B[39;00m \u001B[38;5;28mself\u001B[39m\u001B[38;5;241m.\u001B[39m_threads_suspended_single_notification\u001B[38;5;241m.\u001B[39mnotify_thread_suspended(thread_id, stop_reason):\n\u001B[0;32m-> 1160\u001B[0m     \u001B[38;5;28;43mself\u001B[39;49m\u001B[38;5;241;43m.\u001B[39;49m\u001B[43m_do_wait_suspend\u001B[49m\u001B[43m(\u001B[49m\u001B[43mthread\u001B[49m\u001B[43m,\u001B[49m\u001B[43m \u001B[49m\u001B[43mframe\u001B[49m\u001B[43m,\u001B[49m\u001B[43m \u001B[49m\u001B[43mevent\u001B[49m\u001B[43m,\u001B[49m\u001B[43m \u001B[49m\u001B[43marg\u001B[49m\u001B[43m,\u001B[49m\u001B[43m \u001B[49m\u001B[43msuspend_type\u001B[49m\u001B[43m,\u001B[49m\u001B[43m \u001B[49m\u001B[43mfrom_this_thread\u001B[49m\u001B[43m)\u001B[49m\n",
      "File \u001B[0;32m/Applications/PyCharm.app/Contents/plugins/python/helpers/pydev/pydevd.py:1175\u001B[0m, in \u001B[0;36mPyDB._do_wait_suspend\u001B[0;34m(self, thread, frame, event, arg, suspend_type, from_this_thread)\u001B[0m\n\u001B[1;32m   1172\u001B[0m             \u001B[38;5;28mself\u001B[39m\u001B[38;5;241m.\u001B[39m_call_mpl_hook()\n\u001B[1;32m   1174\u001B[0m         \u001B[38;5;28mself\u001B[39m\u001B[38;5;241m.\u001B[39mprocess_internal_commands()\n\u001B[0;32m-> 1175\u001B[0m         \u001B[43mtime\u001B[49m\u001B[38;5;241;43m.\u001B[39;49m\u001B[43msleep\u001B[49m\u001B[43m(\u001B[49m\u001B[38;5;241;43m0.01\u001B[39;49m\u001B[43m)\u001B[49m\n\u001B[1;32m   1177\u001B[0m \u001B[38;5;28mself\u001B[39m\u001B[38;5;241m.\u001B[39mcancel_async_evaluation(get_current_thread_id(thread), \u001B[38;5;28mstr\u001B[39m(\u001B[38;5;28mid\u001B[39m(frame)))\n\u001B[1;32m   1179\u001B[0m \u001B[38;5;66;03m# process any stepping instructions\u001B[39;00m\n",
      "\u001B[0;31mKeyboardInterrupt\u001B[0m: "
     ]
    }
   ],
   "source": [
    "dicomdir = pydicom.dcmread(\"../A/DICOMDIR\")\n",
    "dicomdir"
   ],
   "metadata": {
    "collapsed": false
   }
  },
  {
   "cell_type": "code",
   "execution_count": 13,
   "outputs": [],
   "source": [
    "with open(\"../A/US/Wave.opt\", \"r\") as f:\n",
    "    f.readline()\n",
    "    _ = f.readline()\n",
    "    dataset = []\n",
    "    for i, line in enumerate(f):\n",
    "        row = []\n",
    "        if i%2 !=0:\n",
    "            for y in line.replace(\"\\n\", \"\").split(\", \"):\n",
    "                row.append(float(y))\n",
    "            dataset.append(row)\n",
    "\n",
    "\n",
    "dataset = np.array(dataset)"
   ],
   "metadata": {
    "collapsed": false
   }
  },
  {
   "cell_type": "code",
   "execution_count": 14,
   "outputs": [
    {
     "data": {
      "text/plain": "(30075, 2668)"
     },
     "execution_count": 14,
     "metadata": {},
     "output_type": "execute_result"
    }
   ],
   "source": [
    "dataset.shape"
   ],
   "metadata": {
    "collapsed": false
   }
  },
  {
   "cell_type": "code",
   "execution_count": 24,
   "outputs": [
    {
     "data": {
      "text/plain": "datetime.datetime(2019, 7, 24, 11, 52, 30)"
     },
     "execution_count": 24,
     "metadata": {},
     "output_type": "execute_result"
    }
   ],
   "source": [
    "datetime.utcfromtimestamp(1563969150.0)"
   ],
   "metadata": {
    "collapsed": false,
    "ExecuteTime": {
     "end_time": "2024-04-24T13:35:50.665414500Z",
     "start_time": "2024-04-24T13:35:50.650817Z"
    }
   }
  },
  {
   "cell_type": "code",
   "execution_count": 17,
   "outputs": [
    {
     "data": {
      "text/plain": "'01:01:01'"
     },
     "execution_count": 17,
     "metadata": {},
     "output_type": "execute_result"
    }
   ],
   "source": [
    "from datetime import time\n",
    "\n",
    "time(1, 1, 1).__str__()"
   ],
   "metadata": {
    "collapsed": false
   }
  },
  {
   "cell_type": "code",
   "execution_count": null,
   "outputs": [],
   "source": [],
   "metadata": {
    "collapsed": false
   }
  }
 ],
 "metadata": {
  "kernelspec": {
   "display_name": "Python 3",
   "language": "python",
   "name": "python3"
  },
  "language_info": {
   "codemirror_mode": {
    "name": "ipython",
    "version": 2
   },
   "file_extension": ".py",
   "mimetype": "text/x-python",
   "name": "python",
   "nbconvert_exporter": "python",
   "pygments_lexer": "ipython2",
   "version": "2.7.6"
  }
 },
 "nbformat": 4,
 "nbformat_minor": 0
}
