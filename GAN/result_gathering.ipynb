{
 "cells": [
  {
   "cell_type": "code",
   "execution_count": 1,
   "metadata": {},
   "outputs": [],
   "source": [
    "import numpy as np\n",
    "import wandb\n",
    "import pandas as pd\n",
    "import os\n",
    "from models.cProGAN import Generator\n",
    "import torch\n",
    "import json\n",
    "from dataset import CustomDataset\n",
    "from dataset_splitter import DatasetSplitter\n",
    "from torch.utils.data import DataLoader\n",
    "import cv2\n",
    "import matplotlib.pyplot as plt\n",
    "from feature_extractors.mri.mri_improvement import get_current_border_position"
   ]
  },
  {
   "cell_type": "code",
   "execution_count": 3,
   "metadata": {},
   "outputs": [],
   "source": [
    "def get_mean_std(train_dataset):\n",
    "    loader = DataLoader(train_dataset, batch_size=len(train_dataset))\n",
    "    data = next(iter(loader))\n",
    "    \n",
    "    heat = data[\"heat\"].mean(), data[\"heat\"].std()\n",
    "    coil = data[\"coil\"].mean(), data[\"coil\"].std()\n",
    "    us = data[\"us_wave\"].mean(), data[\"us_wave\"].std()\n",
    "\n",
    "    return heat, coil, us"
   ]
  },
  {
   "cell_type": "code",
   "execution_count": 4,
   "metadata": {},
   "outputs": [],
   "source": [
    "\n",
    "def generate_fake_images(data, G, device):\n",
    "    dataloader = DataLoader(data, batch_size=10, shuffle=False, pin_memory=True)\n",
    "\n",
    "    fake_to_return = []\n",
    "    real_to_return = []\n",
    "    us = []\n",
    "    coil = []\n",
    "    heat = []\n",
    "    for data in dataloader:\n",
    "        mr_batch = data[\"mr\"].to(device)\n",
    "        wave_batch = None\n",
    "        us_wave_batch = data[\"us_wave\"].to(device)\n",
    "        coil_batch = data[\"coil\"].to(device)\n",
    "        heat_batch = data[\"heat\"].to(device)\n",
    "        us_raw_batch = None\n",
    "\n",
    "        noise_batch = torch.randn(mr_batch.shape[0], 256-32, 1, 1, device=device)\n",
    "        fake_batch = G(noise_batch, wave_batch, us_wave_batch, coil_batch, heat_batch, us_raw_batch, 5, 1)\n",
    "\n",
    "        fake_to_return.extend(np.uint8((fake_batch[:, 0, :, :].detach().cpu().numpy()+1)/2*255))\n",
    "        real_to_return.extend(np.uint8((mr_batch.detach().cpu().numpy()+1)/2*255))\n",
    "        us.extend(us_wave_batch.detach().cpu().numpy().flatten())\n",
    "        coil.extend(coil_batch.detach().cpu().numpy().flatten())\n",
    "        heat.extend(heat_batch.detach().cpu().numpy().flatten())\n",
    "\n",
    "    return real_to_return, fake_to_return, us, coil, heat"
   ]
  },
  {
   "cell_type": "code",
   "execution_count": 5,
   "metadata": {},
   "outputs": [],
   "source": [
    "\n",
    "def track_border(real, fake, threshold, x, show=False):    \n",
    "    real_waveform, fake_waveform = [], []\n",
    "    for r, f in zip(real, fake):\n",
    "        # y_real, image_real = extract_border(r, threshold, x)\n",
    "        # y_fake, image_fake = extract_border(f, threshold, x)\n",
    "        y_real, mask_real = get_current_border_position(r, threshold, x)\n",
    "        y_fake, mask_fake = get_current_border_position(f, threshold, x)\n",
    "\n",
    "        real_waveform.append(y_real)\n",
    "        fake_waveform.append(y_fake)\n",
    "\n",
    "        if show:\n",
    "            img = np.concatenate([mask_real, mask_fake], axis=1)\n",
    "            cv2.imshow(\"Frame\", img)\n",
    "            cv2.waitKey(200)\n",
    "    \n",
    "    return np.array(real_waveform), np.array(fake_waveform)"
   ]
  },
  {
   "cell_type": "code",
   "execution_count": 8,
   "metadata": {},
   "outputs": [],
   "source": [
    "runs = {\n",
    "    \"A2\": \"rose-monkey-196\",\n",
    "    \"A3\": \"lunar-shape-197\",\n",
    "    \"B1\": \"dashing-snow-198\",\n",
    "    \"B2\": \"eager-terrain-199\",\n",
    "    \"B3\": \"giddy-water-200\",\n",
    "    \"C1\": \"visionary-sponge-201\",\n",
    "    \"C2\": \"chocolate-rain-202\",\n",
    "    \"C3\": \"super-snowflake-203\",\n",
    "}"
   ]
  },
  {
   "cell_type": "code",
   "execution_count": 99,
   "metadata": {},
   "outputs": [],
   "source": [
    "device = torch.device(\"cuda:0\" if torch.cuda.is_available() else \"cpu\")\n",
    "pattern = \"Regular Breathing\"\n",
    "results = {\n",
    "    \"Regular Breathing\": {}, \n",
    "    \"Shallow Breathing\": {}, \n",
    "    \"Deep Breathing\": {}, \n",
    "    \"Deep BH\": {}, \n",
    "    \"Half Exhale BH\": {}, \n",
    "    \"Full Exhale BH\": {}\n",
    "}\n",
    "\n",
    "for subject in runs.keys():\n",
    "    data_root = os.path.join(\"C:\", os.sep, \"data\", \"Formatted_datasets\")\n",
    "    dataset = CustomDataset(data_root, subject)\n",
    "    splitter = DatasetSplitter(dataset, .8, .1, .1)\n",
    "    train_dataset = splitter.get_train_dataset()\n",
    "    heat_normalizer, coil_normalizer, us_normalizer = get_mean_std(train_dataset)\n",
    "\n",
    "    dataset = CustomDataset(data_root, subject, coil_normalizer, heat_normalizer, us_normalizer)\n",
    "    splitter = DatasetSplitter(dataset, .8, .1, .1)\n",
    "\n",
    "    model_path = f\"C:\\\\dev\\\\depth-tests\\\\GAN\\\\best_models\\\\{runs[subject]}.pth\"\n",
    "    G = Generator(\n",
    "        heat_length=dataset[0][\"heat\"].shape[0],\n",
    "        coil_length=dataset[0][\"coil\"].shape[0],\n",
    "        us_length=dataset[0][\"us_wave\"].shape[0],\n",
    "        layers=[256, 128, 64, 32, 16, 8],\n",
    "    ).to(device)\n",
    "    G.load_state_dict(torch.load(model_path))\n",
    "    G.eval()\n",
    "\n",
    "    for pattern in results.keys():\n",
    "        data = splitter.test_subsets[pattern]\n",
    "        real, fake, us, coil, heat = generate_fake_images(data, G, device)\n",
    "\n",
    "        threshold = dataset.settings[\"MRI\"][\"Updated_Waveform_parameters\"][\"Threshold\"]\n",
    "        x = dataset.settings[\"MRI\"][\"Updated_Waveform_parameters\"][\"x\"]\n",
    "\n",
    "        real_waveform, fake_waveform = track_border(real, fake, threshold, x-32)\n",
    "\n",
    "        results[pattern][subject] = {\"real\": real_waveform, \"fake\": fake_waveform, \"mae\": np.abs(real_waveform - fake_waveform)}"
   ]
  },
  {
   "cell_type": "code",
   "execution_count": 102,
   "metadata": {},
   "outputs": [],
   "source": [
    "for pattern in [\"Regular Breathing\", \"Shallow Breathing\", \"Deep Breathing\", \"Deep BH\", \"Half Exhale BH\", \"Full Exhale BH\"]:\n",
    "    A = [results[pattern][\"A2\"][\"mae\"], results[pattern][\"A3\"][\"mae\"]]\n",
    "    B = [results[pattern][\"B1\"][\"mae\"], results[pattern][\"B2\"][\"mae\"], results[pattern][\"B3\"][\"mae\"]]\n",
    "    C = [results[pattern][\"C1\"][\"mae\"], results[pattern][\"C2\"][\"mae\"], results[pattern][\"C3\"][\"mae\"]]\n",
    "\n",
    "    plt.boxplot(A, positions=[1, 2])\n",
    "    plt.boxplot(B, positions=[4, 5, 6])\n",
    "    plt.boxplot(C, positions=[8, 9, 10])\n",
    "\n",
    "    plt.title(f\"MAE During {pattern}\")\n",
    "    plt.ylabel(\"Displacement (mm)\")\n",
    "    plt.xlim(0,11)\n",
    "    plt.xticks(labels=[\"A\", \"B\", \"C\"], ticks=[1.5, 5, 9])\n",
    "    plt.show()\n"
   ]
  },
  {
   "cell_type": "code",
   "execution_count": 47,
   "metadata": {},
   "outputs": [],
   "source": [
    "plt.boxplot(bp)\n",
    "plt.show()"
   ]
  },
  {
   "cell_type": "code",
   "execution_count": 50,
   "metadata": {},
   "outputs": [],
   "source": [
    "for pattern in [\"Regular Breathing\", \"Shallow Breathing\", \"Deep Breathing\", \"Deep BH\", \"Half Exhale BH\", \"Full Exhale BH\"]:\n",
    "    data = splitter.test_subsets[pattern]\n",
    "    real, fake, us, coil, heat = generate_fake_images(data, G, device)\n",
    "    threshold = dataset.settings[\"MRI\"][\"Updated_Waveform_parameters\"][\"Threshold\"]\n",
    "    x = dataset.settings[\"MRI\"][\"Updated_Waveform_parameters\"][\"x\"]\n",
    "\n",
    "    real_waveform, fake_waveform = track_border(real, fake, threshold, x-32)\n",
    "\n",
    "    plt.figure()\n",
    "    plt.plot(real_waveform, label=\"Real\")\n",
    "    plt.plot(fake_waveform, label=\"Fake\")\n",
    "    plt.ylim([50, 150])\n",
    "    plt.title(f\"Liver movement for {pattern}\")\n",
    "    plt.ylabel(\"Displacement (mm)\")\n",
    "    plt.xlabel(\"Frame number\")\n",
    "    plt.legend()\n",
    "    plt.show()"
   ]
  },
  {
   "cell_type": "code",
   "execution_count": 89,
   "metadata": {},
   "outputs": [],
   "source": [
    "for subject in results.keys():\n",
    "    real = results[subject][\"real\"]\n",
    "    fake = results[subject][\"fake\"]\n",
    "    plt.title(subject)\n",
    "    plt.plot(real)\n",
    "    plt.plot(fake)\n",
    "    plt.show()"
   ]
  },
  {
   "cell_type": "code",
   "execution_count": 88,
   "metadata": {},
   "outputs": [
    {
     "data": {
      "text/plain": [
       "(5.554567901234569, 5.826534461035679)"
      ]
     },
     "execution_count": 88,
     "metadata": {},
     "output_type": "execute_result"
    }
   ],
   "source": [
    "mae = []\n",
    "for subject in results.keys():\n",
    "    mae.extend(results[subject][\"mae\"])\n",
    "\n",
    "mae = np.array(mae)\n",
    "mae.mean(), mae.std()"
   ]
  },
  {
   "cell_type": "code",
   "execution_count": null,
   "metadata": {},
   "outputs": [],
   "source": []
  }
 ],
 "metadata": {
  "kernelspec": {
   "display_name": "depth",
   "language": "python",
   "name": "python3"
  },
  "language_info": {
   "codemirror_mode": {
    "name": "ipython",
    "version": 3
   },
   "file_extension": ".py",
   "mimetype": "text/x-python",
   "name": "python",
   "nbconvert_exporter": "python",
   "pygments_lexer": "ipython3",
   "version": "3.8.19"
  }
 },
 "nbformat": 4,
 "nbformat_minor": 2
}
