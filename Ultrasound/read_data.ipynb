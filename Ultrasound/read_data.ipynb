{
 "cells": [
  {
   "cell_type": "code",
   "execution_count": 15,
   "id": "initial_id",
   "metadata": {
    "collapsed": true,
    "ExecuteTime": {
     "end_time": "2024-05-03T10:29:31.280877Z",
     "start_time": "2024-05-03T10:29:31.273437Z"
    }
   },
   "outputs": [],
   "source": [
    "import pickle\n",
    "import pandas as pd\n",
    "import matplotlib as mpl\n",
    "mpl.use('Qt5Agg')\n",
    "import os\n",
    "import matplotlib.pyplot as plt\n",
    "import matplotlib.animation as animation\n",
    "from datetime import datetime\n",
    "import time\n",
    "import numpy as np"
   ]
  },
  {
   "cell_type": "code",
   "outputs": [],
   "source": [
    "# data = pd.read_pickle(\"data/2024-03-11 16,40,56.pickle\")\n",
    "data = pd.read_pickle(r\"D:\\techmed_synchronisatie_1-5\\Test1\\us\\2024-05-01 13,50,58_times.pickle\")"
   ],
   "metadata": {
    "collapsed": false,
    "ExecuteTime": {
     "end_time": "2024-05-03T10:06:28.109765Z",
     "start_time": "2024-05-03T10:06:28.103030Z"
    }
   },
   "id": "8fc85915dd104099",
   "execution_count": 3
  },
  {
   "cell_type": "code",
   "outputs": [
    {
     "data": {
      "text/plain": "datetime.datetime(2024, 5, 1, 13, 50, 24, 573089)"
     },
     "execution_count": 14,
     "metadata": {},
     "output_type": "execute_result"
    }
   ],
   "source": [
    "datetime.fromtimestamp(1714564224.5730891)"
   ],
   "metadata": {
    "collapsed": false,
    "ExecuteTime": {
     "end_time": "2024-05-03T10:22:02.178992Z",
     "start_time": "2024-05-03T10:22:02.171705Z"
    }
   },
   "id": "6cc04dce1afd40f6",
   "execution_count": 14
  },
  {
   "cell_type": "code",
   "outputs": [
    {
     "data": {
      "text/plain": "(1714732180.051907, 9260.9145475)"
     },
     "execution_count": 16,
     "metadata": {},
     "output_type": "execute_result"
    }
   ],
   "source": [
    "time.time(), time.perf_counter()"
   ],
   "metadata": {
    "collapsed": false,
    "ExecuteTime": {
     "end_time": "2024-05-03T10:29:40.057103Z",
     "start_time": "2024-05-03T10:29:40.049911Z"
    }
   },
   "id": "8dad36cc8d958a7a",
   "execution_count": 16
  },
  {
   "cell_type": "code",
   "outputs": [
    {
     "name": "stdout",
     "output_type": "stream",
     "text": [
      "0.020888799999738694\n"
     ]
    }
   ],
   "source": [
    "a = time.perf_counter()\n",
    "time.sleep(0.02)\n",
    "b = time.perf_counter()\n",
    "\n",
    "print(b-a)"
   ],
   "metadata": {
    "collapsed": false,
    "ExecuteTime": {
     "end_time": "2024-05-03T10:54:53.732161Z",
     "start_time": "2024-05-03T10:54:53.705826Z"
    }
   },
   "id": "f9fce30ab72935f0",
   "execution_count": 17
  },
  {
   "cell_type": "code",
   "outputs": [
    {
     "data": {
      "text/plain": "8471.5852837"
     },
     "execution_count": 10,
     "metadata": {},
     "output_type": "execute_result"
    }
   ],
   "source": [
    "data[0]"
   ],
   "metadata": {
    "collapsed": false,
    "ExecuteTime": {
     "end_time": "2024-05-03T10:20:12.535708Z",
     "start_time": "2024-05-03T10:20:12.529223Z"
    }
   },
   "id": "8aedea6fafe8cc55",
   "execution_count": 10
  },
  {
   "cell_type": "code",
   "outputs": [
    {
     "data": {
      "text/plain": "(2, 26, 11, 565884)"
     },
     "execution_count": 9,
     "metadata": {},
     "output_type": "execute_result"
    }
   ],
   "source": [
    "timestamp = data[-1]\n",
    "\n",
    "seconds = int(timestamp)\n",
    "microseconds = int((timestamp - seconds) * 1e6)\n",
    "\n",
    "# Extract hours, minutes, seconds\n",
    "hours = seconds // 3600\n",
    "minutes = (seconds % 3600) // 60\n",
    "seconds = seconds % 60\n",
    "\n",
    "hours, minutes, seconds, microseconds"
   ],
   "metadata": {
    "collapsed": false,
    "ExecuteTime": {
     "end_time": "2024-05-03T10:19:49.309141Z",
     "start_time": "2024-05-03T10:19:49.300030Z"
    }
   },
   "id": "90b7e0aad465576e",
   "execution_count": 9
  },
  {
   "cell_type": "code",
   "outputs": [
    {
     "data": {
      "text/plain": "datetime.datetime(1970, 1, 1, 3, 21, 11, 585284)"
     },
     "execution_count": 13,
     "metadata": {},
     "output_type": "execute_result"
    }
   ],
   "source": [
    "date = datetime.fromtimestamp(data[0])\n",
    "date"
   ],
   "metadata": {
    "collapsed": false,
    "ExecuteTime": {
     "end_time": "2024-05-03T10:20:32.847814Z",
     "start_time": "2024-05-03T10:20:32.842078Z"
    }
   },
   "id": "c540fda4bdf863a3",
   "execution_count": 13
  },
  {
   "cell_type": "code",
   "outputs": [
    {
     "data": {
      "text/plain": "datetime.timedelta(microseconds=21004)"
     },
     "execution_count": 14,
     "metadata": {},
     "output_type": "execute_result"
    }
   ],
   "source": [
    "timestamp_arr = [datetime.fromtimestamp(d) for d in data]\n",
    "    \n",
    "timestamp_arr[1] - timestamp_arr[0]\n"
   ],
   "metadata": {
    "collapsed": false,
    "ExecuteTime": {
     "end_time": "2024-05-02T13:06:08.666152Z",
     "start_time": "2024-05-02T13:06:08.658169Z"
    }
   },
   "id": "bf5145cec20cfaa0",
   "execution_count": 14
  },
  {
   "cell_type": "code",
   "outputs": [
    {
     "data": {
      "text/plain": "array([0.0210038, 0.0191211, 0.0205181, ..., 0.0198021, 0.0200697,\n       0.0197058])"
     },
     "execution_count": 15,
     "metadata": {},
     "output_type": "execute_result"
    }
   ],
   "source": [
    "np.diff(np.array(data))"
   ],
   "metadata": {
    "collapsed": false,
    "ExecuteTime": {
     "end_time": "2024-05-02T13:06:12.917887Z",
     "start_time": "2024-05-02T13:06:12.910181Z"
    }
   },
   "id": "e50fcab070110ada",
   "execution_count": 15
  },
  {
   "cell_type": "code",
   "outputs": [
    {
     "data": {
      "text/plain": "[0.05089569091796875,\n 0.03989291191101074,\n 0.03989219665527344,\n 0.04088902473449707,\n 0.04088878631591797,\n 0.03989291191101074,\n 0.03989362716674805,\n 0.038893699645996094,\n 0.039862632751464844,\n 0.03892326354980469,\n 0.03989601135253906,\n 0.03989076614379883,\n 0.03989362716674805,\n 0.03989243507385254,\n 0.03989434242248535,\n 0.039893150329589844,\n 0.039893150329589844,\n 0.03889298439025879,\n 0.03989362716674805,\n 0.03989267349243164,\n 0.039893388748168945,\n 0.03989386558532715,\n 0.04105091094970703,\n 0.03889346122741699,\n 0.04288959503173828,\n 0.038895368576049805,\n 0.03989458084106445,\n 0.06881499290466309,\n 0.04288005828857422,\n 0.0408933162689209,\n 0.04089188575744629,\n 0.03989362716674805,\n 0.03989124298095703,\n 0.04285311698913574,\n 0.039925336837768555,\n 0.039893388748168945,\n 0.03889870643615723,\n 0.03889608383178711,\n 0.03989291191101074,\n 0.03889656066894531,\n 0.040888309478759766,\n 0.03889870643615723,\n 0.03989076614379883,\n 0.040892839431762695,\n 0.03986358642578125,\n 0.0389254093170166,\n 0.03989458084106445,\n 0.04088926315307617,\n 0.041890621185302734,\n 0.038893699645996094,\n 0.03990030288696289,\n 0.03889632225036621,\n 0.038893938064575195,\n 0.039893150329589844,\n 0.03889584541320801,\n 0.04203057289123535,\n 0.03992319107055664,\n 0.03889584541320801,\n 0.03989410400390625,\n 0.03989291191101074,\n 0.04089021682739258,\n 0.03893756866455078,\n 0.038895606994628906,\n 0.04088783264160156,\n 0.039893150329589844,\n 0.03889918327331543,\n 0.03989529609680176,\n 0.039893388748168945,\n 0.03989386558532715,\n 0.0398859977722168,\n 0.0399014949798584,\n 0.039891958236694336,\n 0.03989458084106445,\n 0.0438840389251709,\n 0.040888309478759766,\n 0.04188823699951172,\n 0.03889584541320801,\n 0.04188966751098633,\n 0.039893388748168945,\n 0.03989267349243164,\n 0.03989386558532715,\n 0.039893150329589844,\n 0.04085946083068848,\n 0.040921688079833984,\n 0.040859222412109375,\n 0.039925575256347656,\n 0.0418853759765625,\n 0.040892601013183594,\n 0.04057931900024414,\n 0.03989386558532715,\n 0.03989672660827637,\n 0.0718076229095459]"
     },
     "execution_count": 32,
     "metadata": {},
     "output_type": "execute_result"
    }
   ],
   "source": [
    "data[\"proc_times\"]"
   ],
   "metadata": {
    "collapsed": false,
    "ExecuteTime": {
     "end_time": "2024-04-30T15:16:05.414324Z",
     "start_time": "2024-04-30T15:16:05.405733Z"
    }
   },
   "id": "32571e9d3e677fa8",
   "execution_count": 32
  },
  {
   "cell_type": "code",
   "outputs": [
    {
     "data": {
      "text/plain": "62.112"
     },
     "execution_count": 18,
     "metadata": {},
     "output_type": "execute_result"
    }
   ],
   "source": [
    "0.062112 * 1000"
   ],
   "metadata": {
    "collapsed": false,
    "ExecuteTime": {
     "end_time": "2024-04-30T14:52:18.283792Z",
     "start_time": "2024-04-30T14:52:18.277556Z"
    }
   },
   "id": "fd7448368a1e0002",
   "execution_count": 18
  },
  {
   "cell_type": "code",
   "outputs": [
    {
     "name": "stderr",
     "output_type": "stream",
     "text": [
      "C:\\Users\\kjwdamme\\AppData\\Local\\Temp\\ipykernel_816\\1451858370.py:13: UserWarning: frames=None which we can infer the length of, did not pass an explicit *save_count* and passed cache_frame_data=True.  To avoid a possibly unbounded cache, frame data caching has been disabled. To suppress this warning either pass `cache_frame_data=False` or `save_count=MAX_FRAMES`.\n",
      "  ani = animation.FuncAnimation(fig, animate, interval=0.04)\n"
     ]
    }
   ],
   "source": [
    "fig = plt.figure()\n",
    "ax1 = fig.add_subplot(1, 1, 1)\n",
    "\n",
    "def animate(i):\n",
    "    i = i%len(data[0])\n",
    "    d = data[0][i] \n",
    "    \n",
    "    ax1.clear()\n",
    "    ax1.plot(d)\n",
    "    ax1.set_ylim([-0.06, 0.06])\n",
    "    return ax1\n",
    "    \n",
    "ani = animation.FuncAnimation(fig, animate, interval=0.04)\n",
    "plt.show()"
   ],
   "metadata": {
    "collapsed": false,
    "ExecuteTime": {
     "end_time": "2024-03-28T10:06:31.491071Z",
     "start_time": "2024-03-28T10:04:34.568972Z"
    }
   },
   "id": "e05c20f1e1c7975f",
   "execution_count": 4
  },
  {
   "cell_type": "code",
   "outputs": [
    {
     "data": {
      "text/plain": "[<matplotlib.lines.Line2D at 0x22564c345d0>]"
     },
     "execution_count": 7,
     "metadata": {},
     "output_type": "execute_result"
    },
    {
     "data": {
      "text/plain": "<Figure size 640x480 with 1 Axes>",
      "image/png": "[encoded data removed]"
     },
     "metadata": {},
     "output_type": "display_data"
    }
   ],
   "source": [
    "plt.plot(data[9000][0])"
   ],
   "metadata": {
    "collapsed": false,
    "ExecuteTime": {
     "end_time": "2024-03-11T14:42:57.897425Z",
     "start_time": "2024-03-11T14:42:57.702245Z"
    }
   },
   "id": "305bb933c9c790f6",
   "execution_count": 7
  },
  {
   "cell_type": "code",
   "outputs": [
    {
     "data": {
      "text/plain": "7"
     },
     "execution_count": 37,
     "metadata": {},
     "output_type": "execute_result"
    }
   ],
   "source": [
    "np.where(data[11000][0] != 0)[0]"
   ],
   "metadata": {
    "collapsed": false,
    "ExecuteTime": {
     "end_time": "2024-03-11T14:22:36.716766Z",
     "start_time": "2024-03-11T14:22:36.708795Z"
    }
   },
   "id": "fecd06c9d9234ec1",
   "execution_count": 37
  },
  {
   "cell_type": "code",
   "outputs": [],
   "source": [],
   "metadata": {
    "collapsed": false
   },
   "id": "8532070e1b29b639"
  }
 ],
 "metadata": {
  "kernelspec": {
   "display_name": "Python 3",
   "language": "python",
   "name": "python3"
  },
  "language_info": {
   "codemirror_mode": {
    "name": "ipython",
    "version": 2
   },
   "file_extension": ".py",
   "mimetype": "text/x-python",
   "name": "python",
   "nbconvert_exporter": "python",
   "pygments_lexer": "ipython2",
   "version": "2.7.6"
  }
 },
 "nbformat": 4,
 "nbformat_minor": 5
}
